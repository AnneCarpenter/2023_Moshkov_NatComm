{
 "cells": [
  {
   "cell_type": "code",
   "execution_count": null,
   "metadata": {},
   "outputs": [],
   "source": [
    "import numpy as np\n",
    "import pandas as pd\n",
    "import csv\n",
    "from tqdm import tqdm"
   ]
  },
  {
   "cell_type": "markdown",
   "metadata": {},
   "source": [
    "The notebook is used to get statistics about plate maps for morphology splits. \\\n",
    "Some data is not public, so this notebooks is only for demonstration "
   ]
  },
  {
   "cell_type": "code",
   "execution_count": null,
   "metadata": {},
   "outputs": [],
   "source": [
    "### Load filtered assay data\n",
    "assay_file = '../data/assay_matrix_discrete_270_assays.csv'\n",
    "assay_all_df = pd.read_csv(assay_file)\n",
    "assay_all_np = assay_all_df.to_numpy()[]\n",
    "assay_header = assay_all_df.columns\n",
    "assay_all_np.shape"
   ]
  },
  {
   "cell_type": "code",
   "execution_count": null,
   "metadata": {},
   "outputs": [],
   "source": [
    "assay_all_df[assay_all_df['smiles'].isna()]"
   ]
  },
  {
   "cell_type": "code",
   "execution_count": null,
   "metadata": {},
   "outputs": [],
   "source": [
    "compounds = list(assay_all_df['smiles'])\n"
   ]
  },
  {
   "cell_type": "code",
   "execution_count": null,
   "metadata": {},
   "outputs": [],
   "source": [
    "broad_ids = []\n",
    "broad_smiles = {}\n",
    "with open('chemical_annotations.csv') as f:\n",
    "    reader = csv.reader(f)\n",
    "    for row in reader:\n",
    "        broad_smiles[row[8]] = row[0][:13]\n",
    "        \n",
    "for i in range(len(compounds)):\n",
    "    broad_ids.append(broad_smiles[compounds[i]])\n",
    "    \n",
    "print(len(broad_ids))"
   ]
  },
  {
   "cell_type": "code",
   "execution_count": null,
   "metadata": {},
   "outputs": [],
   "source": [
    "population_df = pd.read_csv('../data/population.csv')\n",
    "col = ['Metadata_Plate_Map_Name', 'Metadata_pert_id']\n",
    "population_df = population_df[col]\n",
    "population_df"
   ]
  },
  {
   "cell_type": "code",
   "execution_count": null,
   "metadata": {},
   "outputs": [],
   "source": [
    "### Make sure that 1 compound belongs to 1 plate map\n",
    "platemaps = list(population_df['Metadata_Plate_Map_Name'])\n",
    "pert = list(population_df['Metadata_pert_id'])\n",
    "compounds_platemaps = {}\n",
    "platemaps_compounds = {}\n",
    "for i in tqdm(range(len(broad_ids))):\n",
    "    if broad_ids[i] not in compounds_platemaps.keys():\n",
    "        compounds_platemaps[broad_ids[i]] = []\n",
    "    indicies = [c for c, x in enumerate(pert) if x == broad_ids[i]]\n",
    "    for ind in indicies:\n",
    "        if platemaps[ind] not in compounds_platemaps[broad_ids[i]]:\n",
    "            compounds_platemaps[broad_ids[i]].append(platemaps[ind])\n",
    "\n",
    "for i in tqdm(range(len(platemaps))):\n",
    "    if platemaps[i] not in platemaps_compounds.keys():\n",
    "        platemaps_compounds[platemaps[i]] = []\n",
    "    \n",
    "    if pert[i] not in  platemaps_compounds[platemaps[i]]:\n",
    "        platemaps_compounds[platemaps[i]].append(pert[i])"
   ]
  },
  {
   "cell_type": "code",
   "execution_count": null,
   "metadata": {},
   "outputs": [],
   "source": [
    "for k in compounds_platemaps.keys():\n",
    "    if len(compounds_platemaps[k]) != 1:\n",
    "        print(compounds_platemaps[k])"
   ]
  },
  {
   "cell_type": "code",
   "execution_count": null,
   "metadata": {},
   "outputs": [],
   "source": [
    "plate_hits = {}\n",
    "for plate in tqdm(platemaps_compounds):\n",
    "    plate_hits[plate] = 0\n",
    "    for i in range(16170):\n",
    "        if broad_smiles[assay_all_np[i,0]] in platemaps_compounds[plate]:\n",
    "            plate_hits[plate] = plate_hits[plate] + np.nansum(assay_all_np[i,1:])"
   ]
  },
  {
   "cell_type": "code",
   "execution_count": null,
   "metadata": {},
   "outputs": [],
   "source": [
    "plate_hits"
   ]
  },
  {
   "cell_type": "code",
   "execution_count": null,
   "metadata": {},
   "outputs": [],
   "source": [
    "with open('platemap_hits.csv', 'w') as f:\n",
    "    writer = csv.writer(f)\n",
    "    writer.writerow(['PlateMap','hits'])\n",
    "    for key in plate_hits.keys():\n",
    "        writer.writerow([key, int(plate_hits[key])])"
   ]
  },
  {
   "cell_type": "code",
   "execution_count": null,
   "metadata": {},
   "outputs": [],
   "source": [
    "### Load splits file\n",
    "with open('../data/MOBC_clusters_size_constrained_jan22.npz', 'rb') as data:\n",
    "    indicies = np.load(data, allow_pickle=True) \n",
    "    indicies = indicies['features']"
   ]
  },
  {
   "cell_type": "code",
   "execution_count": null,
   "metadata": {},
   "outputs": [],
   "source": [
    "for i in range(5):\n",
    "    plate_hits = {}\n",
    "    for plate in tqdm(platemaps_compounds):\n",
    "        plate_hits[plate] = 0\n",
    "        test_ind = np.argwhere(indicies==i).flatten()\n",
    "        for j in range(len(test_ind)):\n",
    "            if broad_smiles[assay_all_np[test_ind[j],0]] in platemaps_compounds[plate]:\n",
    "                plate_hits[plate] = plate_hits[plate] + np.nansum(assay_all_np[test_ind[j],1:])\n",
    "                \n",
    "    with open('../data/platemap_hitsMOBC' + str(i) + '_jan22.csv', 'w') as f:\n",
    "        writer = csv.writer(f)\n",
    "        for key in plate_hits.keys():\n",
    "            writer.writerow([key, int(plate_hits[key])])"
   ]
  },
  {
   "cell_type": "code",
   "execution_count": null,
   "metadata": {},
   "outputs": [],
   "source": []
  }
 ],
 "metadata": {
  "kernelspec": {
   "display_name": "Python 3 (ipykernel)",
   "language": "python",
   "name": "python3"
  },
  "language_info": {
   "codemirror_mode": {
    "name": "ipython",
    "version": 3
   },
   "file_extension": ".py",
   "mimetype": "text/x-python",
   "name": "python",
   "nbconvert_exporter": "python",
   "pygments_lexer": "ipython3",
   "version": "3.7.10"
  }
 },
 "nbformat": 4,
 "nbformat_minor": 4
}
