{
 "cells": [
  {
   "cell_type": "code",
   "execution_count": null,
   "metadata": {},
   "outputs": [],
   "source": [
    "import numpy as np\n",
    "import pandas as pd\n",
    "import os\n",
    "import umap\n",
    "import matplotlib.pyplot as plt\n",
    "import seaborn as sb\n",
    "\n",
    "# https://github.com/jingw2/size_constrained_clustering\n",
    "from size_constrained_clustering import equal"
   ]
  },
  {
   "cell_type": "code",
   "execution_count": null,
   "metadata": {},
   "outputs": [],
   "source": [
    "#put together test and train sets\n",
    "\n",
    "gemo_train_file = './data/gemo_train_filtered.npz'\n",
    "gemo_test_file = './data/population_gemo_test.npz'\n",
    "\n",
    "ge_train_file = './data/ge_train_filtered.npz'\n",
    "ge_test_file = './data/population_ge_test.npz'\n",
    "\n",
    "mo_train_file = './data/mo_train_filtered.npz'\n",
    "mo_test_file = './data/population_mo_test.npz'\n",
    "\n",
    "ge_scaled_train_file = './data/ge_scaled_train_filtered.npz'\n",
    "ge_scaled_test_file = './data/population_ge_scaled_test.npz'\n",
    "\n",
    "assay_file = './data/assay_matrix_discrete_270_assays.csv'\n",
    "\n",
    "cp_train_file = './data/cp_train_filtered_fixed.npz'\n",
    "cp_test_file = './data/assay_matrix_discrete_filter_test_binary_scaff_cp.npz'\n",
    "\n",
    "bc_morphology_file = './data/aggregated_MOBC_features_norm_sorted.npz'\n",
    "\n",
    "similarity_fingerprints = './data/similarity_fingerprints.npz'\n",
    "\n",
    "with open(gemo_train_file, \"rb\") as data:\n",
    "    gemo_train_np = np.load(data)\n",
    "    with open(gemo_test_file, \"rb\") as data2:\n",
    "        gemo_test_np = np.load(data2)\n",
    "        gemo_np = np.concatenate((gemo_train_np['features'], gemo_test_np['features']), axis=0)\n",
    "\n",
    "        \n",
    "with open(ge_train_file, \"rb\") as data:\n",
    "    ge_train_np = np.load(data)\n",
    "    with open(ge_test_file, \"rb\") as data2:\n",
    "        ge_test_np = np.load(data2)\n",
    "        ge_np = np.concatenate((ge_train_np['features'], ge_test_np['features']), axis=0)\n",
    "        \n",
    "        \n",
    "with open(mo_train_file, \"rb\") as data:\n",
    "    mo_train_np = np.load(data)\n",
    "    with open(mo_test_file, \"rb\") as data2:\n",
    "        mo_test_np = np.load(data2)\n",
    "        mo_np = np.concatenate((mo_train_np['features'], mo_test_np['features']), axis=0)\n",
    "\n",
    "        \n",
    "with open(ge_scaled_train_file, \"rb\") as data:\n",
    "    ge_scaled_train_np = np.load(data)\n",
    "    with open(ge_scaled_test_file, \"rb\") as data2:\n",
    "        ge_scaled_test_np = np.load(data2)\n",
    "        ge_scaled_np = np.concatenate((ge_scaled_train_np['features'], ge_scaled_test_np['features']), axis=0)\n",
    "        \n",
    "with open(cp_train_file, \"rb\") as data:\n",
    "    cp_train_np = np.load(data)\n",
    "    with open(cp_test_file, \"rb\") as data2:\n",
    "        cp_test_np = np.load(data2)\n",
    "        cp_np = np.concatenate((cp_train_np['features'], cp_test_np['features']), axis=0)\n",
    "        \n",
    "with open(bc_morphology_file, \"rb\") as data:\n",
    "    bc_mo_np = np.load(data) \n",
    "    bc_mo_np = bc_mo_np['features']\n",
    "\n",
    "with open(similarity_fingerprints, \"rb\") as data:\n",
    "    sim_fp = np.load(data) \n",
    "    sim_fp = sim_fp['features']\n",
    "\n",
    "    \n",
    "gemobc_np = np.concatenate((ge_np, bc_mo_np), axis=1)\n",
    "gesmobc_np = np.concatenate((ge_scaled_np, bc_mo_np), axis=1)\n",
    "gesmo_np = np.concatenate((ge_scaled_np, mo_np), axis=1)\n",
    "\n",
    "with open('./data/compounds16978to16170.npy', 'rb') as data:\n",
    "    compounds_final_indicies_from_16978 = np.load(data)\n",
    "\n",
    "mask=np.zeros(16978, dtype=bool)\n",
    "mask[compounds_final_indicies_from_16978] = True\n",
    "gemo_np = gemo_np[mask, :]\n",
    "ge_np = ge_np[mask, :]\n",
    "mo_np = mo_np[mask, :]\n",
    "ge_scaled_np = ge_scaled_np[mask, :]\n",
    "cp_np = cp_np[mask, :]\n",
    "bc_mo_np = bc_mo_np[mask, :]\n",
    "gemobc_np = gemobc_np[mask, :]\n",
    "gesmobc_np = gesmobc_np[mask, :]\n",
    "gesmo_np = gesmo_np[mask, :]\n",
    "sim_fp = sim_fp[mask, :]"
   ]
  },
  {
   "cell_type": "code",
   "execution_count": null,
   "metadata": {},
   "outputs": [],
   "source": [
    "gemo_np.shape"
   ]
  },
  {
   "cell_type": "code",
   "execution_count": null,
   "metadata": {},
   "outputs": [],
   "source": [
    "#assay info is in csv files; we also store headers      \n",
    "assay_all_df = pd.read_csv(assay_file)\n",
    "assay_all_np = assay_all_df.to_numpy()\n",
    "assay_header = assay_all_df.columns"
   ]
  },
  {
   "cell_type": "code",
   "execution_count": null,
   "metadata": {},
   "outputs": [],
   "source": [
    "assay_all_np.shape"
   ]
  },
  {
   "cell_type": "code",
   "execution_count": null,
   "metadata": {},
   "outputs": [],
   "source": [
    "# calculate sparsity of the assay matrix\n",
    "for_sparsity = assay_all_np[:, 1:].astype(np.float64)\n",
    "for_sparsity[for_sparsity == -1] = np.NaN\n",
    "np.isnan(for_sparsity).sum()/np.prod(for_sparsity.shape)"
   ]
  },
  {
   "cell_type": "code",
   "execution_count": null,
   "metadata": {},
   "outputs": [],
   "source": [
    "# calculate number of readouts in the assay matrix\n",
    "np.count_nonzero(~np.isnan(for_sparsity)) "
   ]
  },
  {
   "cell_type": "code",
   "execution_count": null,
   "metadata": {},
   "outputs": [],
   "source": [
    "# calculate mean hit rate per assay\n",
    "row_hits = np.sum(for_sparsity == 1,axis=1)\n",
    "row_reads = np.sum(~np.isnan(for_sparsity),axis=1)\n",
    "np.mean(row_hits/row_reads)"
   ]
  },
  {
   "cell_type": "code",
   "execution_count": null,
   "metadata": {},
   "outputs": [],
   "source": [
    "# calculate readouts count per assay\n",
    "reads = np.sum(~np.isnan(for_sparsity))\n",
    "reads/270"
   ]
  },
  {
   "cell_type": "code",
   "execution_count": null,
   "metadata": {},
   "outputs": [],
   "source": [
    "# calculate hits count per assay\n",
    "hits = np.sum(for_sparsity == 1)\n",
    "hits/270"
   ]
  },
  {
   "cell_type": "code",
   "execution_count": null,
   "metadata": {},
   "outputs": [],
   "source": [
    "#readout percentiles\n",
    "for_sparsity = assay_all_np[:, 1:].astype(np.float64)\n",
    "for_sparsity[for_sparsity == -1] = np.NaN\n",
    "b = np.sum(~np.isnan(for_sparsity),axis=0)\n",
    "np.percentile(b, [5,25,50,75,95])\n"
   ]
  },
  {
   "cell_type": "code",
   "execution_count": null,
   "metadata": {},
   "outputs": [],
   "source": [
    "#сheck array lenghts\n",
    "print(len(gemo_np), len(ge_np), len(mo_np), len(ge_scaled_np), len(assay_all_np), len(cp_np), len(bc_mo_np), gemobc_np.shape)"
   ]
  },
  {
   "cell_type": "code",
   "execution_count": null,
   "metadata": {},
   "outputs": [],
   "source": [
    "assay_all_np"
   ]
  },
  {
   "cell_type": "code",
   "execution_count": null,
   "metadata": {},
   "outputs": [],
   "source": [
    "def train_test_split( cp_np_array, gesmo_np_array, gesmobc_np_array, gemobc_np_array, bc_mo_np_array, gemo_np_array, ge_np_array, mo_np_array, ge_scaled_np_array, assay_all_np_array ):\n",
    "    indices_test = np.random.choice(gemo_np_array.shape[0], int(gemo_np_array.shape[0]*0.2), replace=False)\n",
    "    mask=np.zeros(gemo_np_array.shape[0], dtype=bool)\n",
    "    mask[indices_test] = True\n",
    "    return indices_test, bc_mo_np_array[~mask, :],  bc_mo_np_array[mask, :], cp_np_array[~mask, :], cp_np_array[mask, :], gesmo_np_array[~mask, :], gesmo_np_array[mask, :], gesmobc_np_array[~mask, :], gesmobc_np_array[mask, :], \\\n",
    "            gemobc_np_array[~mask, :], gemobc_np_array[mask, :], gemo_np_array[~mask, :], gemo_np_array[mask, :], ge_np_array[~mask, :], ge_np_array[mask, :], mo_np_array[~mask, :], \\\n",
    "            mo_np_array[mask, :], ge_scaled_np_array[~mask, :], ge_scaled_np_array[mask, :], assay_all_np_array[~mask, :], assay_all_np_array[mask, :]"
   ]
  },
  {
   "cell_type": "code",
   "execution_count": null,
   "metadata": {},
   "outputs": [],
   "source": [
    "def train_test_split_with_index(indices_test, cp_np_array, gesmo_np_array, gesmobc_np_array, gemobc_np_array, bc_mo_np_array, gemo_np_array, ge_np_array, mo_np_array, ge_scaled_np_array, assay_all_np_array ):\n",
    "    mask=np.zeros(gemo_np_array.shape[0], dtype=bool)\n",
    "    mask[indices_test] = True\n",
    "    return bc_mo_np_array[~mask, :],  bc_mo_np_array[mask, :], cp_np_array[~mask, :], cp_np_array[mask, :], gesmo_np_array[~mask, :], gesmo_np_array[mask, :], gesmobc_np_array[~mask, :], gesmobc_np_array[mask, :], \\\n",
    "            gemobc_np_array[~mask, :], gemobc_np_array[mask, :], gemo_np_array[~mask, :], gemo_np_array[mask, :], ge_np_array[~mask, :], ge_np_array[mask, :], mo_np_array[~mask, :], \\\n",
    "            mo_np_array[mask, :], ge_scaled_np_array[~mask, :], ge_scaled_np_array[mask, :], assay_all_np_array[~mask, :], assay_all_np_array[mask, :]"
   ]
  },
  {
   "cell_type": "code",
   "execution_count": null,
   "metadata": {},
   "outputs": [],
   "source": [
    "# create folders and files for random splits\n",
    "\n",
    "os.chdir('./data/')\n",
    "for i in range(0,10):\n",
    "    os.mkdir('random_final_jan22_' + str(i))\n",
    "    os.chdir('random_final_jan22_' + str(i))\n",
    "    indices_test, bc_mo_np_train, bc_mo_np_test, cp_np_train, cp_np_test, gesmo_np_train, gesmo_np_test, gesmobc_np_train, gesmobc_np_test, gemobc_np_train, gemobc_np_test, gemo_np_train, gemo_np_test, ge_np_train, \\\n",
    "        ge_np_test, mo_np_train, mo_np_test, ge_scaled_np_train, ge_scaled_np_test, assay_all_np_train, assay_all_np_test = \\\n",
    "        train_test_split(cp_np, gesmo_np, gesmobc_np, gemobc_np, bc_mo_np, gemo_np, ge_np, mo_np, ge_scaled_np, assay_all_np)\n",
    "    \n",
    "    print(gemo_np_train.shape, ge_np_train.shape, mo_np_train.shape, assay_all_np_train.shape, np.array(assay_header)[:, np.newaxis].shape)\n",
    "    \n",
    "    assay_train_npdf = np.concatenate((np.array(assay_header)[np.newaxis, :], assay_all_np_train), axis=0)\n",
    "    assay_test_npdf = np.concatenate((np.array(assay_header)[np.newaxis, :], assay_all_np_test), axis=0)\n",
    "    \n",
    "    assay_train_df = pd.DataFrame(data=assay_train_npdf[0:,0:])\n",
    "    assay_test_df = pd.DataFrame(data=assay_test_npdf[0:,0:])\n",
    "    \n",
    "    assay_train_df.to_csv('assay_matrix_discrete_train_scaff.csv', header=False, index=False)\n",
    "    assay_test_df.to_csv('assay_matrix_discrete_test_scaff.csv', header=False, index=False)\n",
    "    \n",
    "    np.savez('random_split_final_indicies_jan22_' + str(i) + '.npz', features=indices_test)\n",
    "    \n",
    "    np.savez('population_gemo_train.npz', features=gemo_np_train)\n",
    "    np.savez('population_gemo_test.npz', features=gemo_np_test)\n",
    "    np.savez('population_gesmo_train.npz', features=gesmo_np_train)\n",
    "    np.savez('population_gesmo_test.npz', features=gesmo_np_test)\n",
    "    np.savez('population_gemobc_train.npz', features=gemobc_np_train)\n",
    "    np.savez('population_gemobc_test.npz', features=gemobc_np_test)\n",
    "    np.savez('population_gesmobc_train.npz', features=gesmobc_np_train)\n",
    "    np.savez('population_gesmobc_test.npz', features=gesmobc_np_test)\n",
    "    np.savez('population_ge_train.npz', features=ge_np_train)\n",
    "    np.savez('population_ge_test.npz', features=ge_np_test)  \n",
    "    np.savez('population_mo_train.npz', features=mo_np_train)\n",
    "    np.savez('population_mo_test.npz', features=mo_np_test)\n",
    "    np.savez('population_mobc_train.npz', features=bc_mo_np_train)\n",
    "    np.savez('population_mobc_test.npz', features=bc_mo_np_test)  \n",
    "    np.savez('population_ge_scaled_train.npz', features=ge_scaled_np_train)\n",
    "    np.savez('population_ge_scaled_test.npz', features=ge_scaled_np_test)\n",
    "    np.savez('population_cp_train.npz', features=cp_np_train)\n",
    "    np.savez('population_cp_test.npz', features=cp_np_test)  \n",
    "    os.chdir('..')\n",
    "    "
   ]
  },
  {
   "cell_type": "code",
   "execution_count": null,
   "metadata": {},
   "outputs": [],
   "source": [
    "# this was used to generate compound order for cross-validation\n",
    "all_indicies = np.arange(gemo_np.shape[0])\n",
    "np.random.shuffle(all_indicies)\n",
    "print(all_indicies)"
   ]
  },
  {
   "cell_type": "code",
   "execution_count": null,
   "metadata": {},
   "outputs": [],
   "source": [
    "# save the array, commented out as it is already exists\n",
    "#np.savez('/raid/data/PUMA/PUMA/4publication/data/cross_validation_indicies_jan22.npz', features=all_indicies)"
   ]
  },
  {
   "cell_type": "code",
   "execution_count": null,
   "metadata": {},
   "outputs": [],
   "source": [
    "# create folders and files with cross-validation splits\n",
    "\n",
    "os.chdir('./data/')\n",
    "with open('cross_validation_indicies_jan22.npz', \"rb\") as data:\n",
    "    all_indicies = np.load(data) \n",
    "    all_indicies = all_indicies['features']\n",
    "\n",
    "for i in range(0,5):\n",
    "    os.mkdir('CV_jan22' + str(i))\n",
    "    os.chdir('CV_jan22' + str(i))\n",
    "    if i < 4:\n",
    "        bc_mo_np_train, bc_mo_np_test, cp_np_train, cp_np_test, gesmo_np_train, gesmo_np_test, gesmobc_np_train, gesmobc_np_test, gemobc_np_train, gemobc_np_test, gemo_np_train, gemo_np_test, ge_np_train, \\\n",
    "        ge_np_test, mo_np_train, mo_np_test, ge_scaled_np_train, ge_scaled_np_test, assay_all_np_train, assay_all_np_test = \\\n",
    "        train_test_split_with_index(all_indicies[i*3234:i*3234+3234], cp_np, gesmo_np, gesmobc_np, gemobc_np, bc_mo_np, gemo_np, ge_np, mo_np, ge_scaled_np, assay_all_np)\n",
    "    else:\n",
    "        bc_mo_np_train, bc_mo_np_test, cp_np_train, cp_np_test, gesmo_np_train, gesmo_np_test, gesmobc_np_train, gesmobc_np_test, gemobc_np_train, gemobc_np_test, gemo_np_train, gemo_np_test, ge_np_train, \\\n",
    "        ge_np_test, mo_np_train, mo_np_test, ge_scaled_np_train, ge_scaled_np_test, assay_all_np_train, assay_all_np_test = \\\n",
    "        train_test_split_with_index(all_indicies[i*3234:], cp_np, gesmo_np, gesmobc_np, gemobc_np, bc_mo_np, gemo_np, ge_np, mo_np, ge_scaled_np, assay_all_np)\n",
    "    \n",
    "    print(gemobc_np_train.shape, bc_mo_np_train.shape, gemo_np_train.shape, ge_np_train.shape, mo_np_train.shape, assay_all_np_train.shape, np.array(assay_header)[:, np.newaxis].shape)\n",
    "    print(gemobc_np_test.shape, bc_mo_np_test.shape, gemo_np_test.shape, ge_np_test.shape, mo_np_test.shape, assay_all_np_test.shape, np.array(assay_header)[:, np.newaxis].shape)\n",
    "    \n",
    "    assay_train_npdf = np.concatenate((np.array(assay_header)[np.newaxis, :], assay_all_np_train), axis=0)\n",
    "    assay_test_npdf = np.concatenate((np.array(assay_header)[np.newaxis, :], assay_all_np_test), axis=0)\n",
    "    \n",
    "    assay_train_df = pd.DataFrame(data=assay_train_npdf[0:,0:])\n",
    "    assay_test_df = pd.DataFrame(data=assay_test_npdf[0:,0:])\n",
    "    \n",
    "    assay_train_df.to_csv('assay_matrix_discrete_train_scaff.csv', header=False, index=False)\n",
    "    assay_test_df.to_csv('assay_matrix_discrete_test_scaff.csv', header=False, index=False)\n",
    "    \n",
    "    np.savez('population_gemo_train.npz', features=gemo_np_train)\n",
    "    np.savez('population_gemo_test.npz', features=gemo_np_test)\n",
    "    np.savez('population_gesmo_train.npz', features=gesmo_np_train)\n",
    "    np.savez('population_gesmo_test.npz', features=gesmo_np_test)\n",
    "    np.savez('population_gemobc_train.npz', features=gemobc_np_train)\n",
    "    np.savez('population_gemobc_test.npz', features=gemobc_np_test)\n",
    "    np.savez('population_gesmobc_train.npz', features=gesmobc_np_train)\n",
    "    np.savez('population_gesmobc_test.npz', features=gesmobc_np_test)\n",
    "    np.savez('population_ge_train.npz', features=ge_np_train)\n",
    "    np.savez('population_ge_test.npz', features=ge_np_test)  \n",
    "    np.savez('population_mo_train.npz', features=mo_np_train)\n",
    "    np.savez('population_mo_test.npz', features=mo_np_test)\n",
    "    np.savez('population_mobc_train.npz', features=bc_mo_np_train)\n",
    "    np.savez('population_mobc_test.npz', features=bc_mo_np_test)  \n",
    "    np.savez('population_ge_scaled_train.npz', features=ge_scaled_np_train)\n",
    "    np.savez('population_ge_scaled_test.npz', features=ge_scaled_np_test)\n",
    "    np.savez('population_cp_train.npz', features=cp_np_train)\n",
    "    np.savez('population_cp_test.npz', features=cp_np_test)  \n",
    "    os.chdir('..')\n",
    "    "
   ]
  },
  {
   "cell_type": "code",
   "execution_count": null,
   "metadata": {},
   "outputs": [],
   "source": [
    "# UMAP plot of morphology features\n",
    "reducer = umap.UMAP()\n",
    "embeddings = reducer.fit_transform(mo_np)\n",
    "plt.figure(figsize=(10,10))\n",
    "plt.scatter(x=embeddings[:,0], y=embeddings[:,1])"
   ]
  },
  {
   "cell_type": "code",
   "execution_count": null,
   "metadata": {},
   "outputs": [],
   "source": [
    "# UMAP plot of batch-corrected morphology features\n",
    "reducer = umap.UMAP()\n",
    "embeddings = reducer.fit_transform(bc_mo_np)\n",
    "plt.figure(figsize=(10,10))\n",
    "plt.scatter(x=embeddings[:,0], y=embeddings[:,1])"
   ]
  },
  {
   "cell_type": "code",
   "execution_count": null,
   "metadata": {},
   "outputs": [],
   "source": [
    "# UMAP plot of gene expression features\n",
    "reducer = umap.UMAP()\n",
    "embeddings = reducer.fit_transform(ge_np)\n",
    "plt.figure(figsize=(10,10))\n",
    "plt.scatter(x=embeddings[:,0], y=embeddings[:,1])"
   ]
  },
  {
   "cell_type": "code",
   "execution_count": null,
   "metadata": {},
   "outputs": [],
   "source": [
    "# UMAP plot of classical chemical structures features\n",
    "reducer = umap.UMAP()\n",
    "embeddings = reducer.fit_transform(cp_np)\n",
    "plt.figure(figsize=(10,10))\n",
    "plt.scatter(x=embeddings[:,0], y=embeddings[:,1])"
   ]
  },
  {
   "cell_type": "code",
   "execution_count": null,
   "metadata": {},
   "outputs": [],
   "source": [
    "# change the path here to the clustering file; this method is for morphology and gene expression clusters index files\n",
    "def train_test_split_cluster(cp_np_array, gesmo_np_array, gesmobc_np_array, gemobc_np_array, bc_mo_np_array, gemo_np_array, ge_np_array, mo_np_array, ge_scaled_np_array, assay_all_np_array, cluster):\n",
    "    with open('../data/MOBC_clusters_size_constrained_jan22.npz', \"rb\") as data:\n",
    "        clusters = np.load(data)\n",
    "        indices_test = np.argwhere(clusters['features']==cluster)\n",
    "        mask=np.zeros(gemo_np_array.shape[0], dtype=bool)\n",
    "        mask[indices_test] = True\n",
    "        return bc_mo_np_array[~mask, :],  bc_mo_np_array[mask, :], cp_np_array[~mask, :], cp_np_array[mask, :], gesmo_np_array[~mask, :], gesmo_np_array[mask, :], gesmobc_np_array[~mask, :], gesmobc_np_array[mask, :], \\\n",
    "            gemobc_np_array[~mask, :], gemobc_np_array[mask, :], gemo_np_array[~mask, :], gemo_np_array[mask, :], ge_np_array[~mask, :], ge_np_array[mask, :], mo_np_array[~mask, :], \\\n",
    "            mo_np_array[mask, :], ge_scaled_np_array[~mask, :], ge_scaled_np_array[mask, :], assay_all_np_array[~mask, :], assay_all_np_array[mask, :]"
   ]
  },
  {
   "cell_type": "code",
   "execution_count": null,
   "metadata": {},
   "outputs": [],
   "source": [
    "# UMAP plots, then clustering of gene expression features, then makes an UMAP plots colored with clusters\n",
    "\n",
    "reducer = umap.UMAP()\n",
    "embeddings = reducer.fit_transform(ge_np)\n",
    "plt.figure(figsize=(10,10))\n",
    "plt.scatter(x=embeddings[:,0], y=embeddings[:,1])\n",
    "\n",
    "model = equal.SameSizeKMeansHeuristics(5)\n",
    "model.fit(ge_np)\n",
    "y_kmeans = model.labels_\n",
    "\n",
    "plt.figure(figsize=(10,10))\n",
    "plt.scatter(embeddings[:, 0], embeddings[:, 1], c=y_kmeans, s=50, cmap='Pastel1')"
   ]
  },
  {
   "cell_type": "code",
   "execution_count": null,
   "metadata": {},
   "outputs": [],
   "source": [
    "# Commenteed out as it is already in Gdrive\n",
    "#np.savez('geneexp_clusters_size_constrained_jan22.npz', features=y_kmeans)"
   ]
  },
  {
   "cell_type": "code",
   "execution_count": null,
   "metadata": {},
   "outputs": [],
   "source": [
    "# UMAP plots, then clustering of batch-corrected morphology features, then makes an UMAP plots colored with clusters\n",
    "reducer = umap.UMAP()\n",
    "embeddings = reducer.fit_transform(bc_mo_np)\n",
    "plt.figure(figsize=(10,10))\n",
    "plt.scatter(x=embeddings[:,0], y=embeddings[:,1])\n",
    "\n",
    "model = equal.SameSizeKMeansHeuristics(5)\n",
    "model.fit(bc_mo_np)\n",
    "y_kmeans = model.labels_\n",
    "\n",
    "plt.figure(figsize=(10,10))\n",
    "plt.scatter(embeddings[:, 0], embeddings[:, 1], c=y_kmeans, s=50, cmap='Pastel1')"
   ]
  },
  {
   "cell_type": "code",
   "execution_count": null,
   "metadata": {},
   "outputs": [],
   "source": [
    "#np.savez('MOBC_clusters_size_constrained_jan22.npz', features=y_kmeans)"
   ]
  },
  {
   "cell_type": "code",
   "execution_count": null,
   "metadata": {},
   "outputs": [],
   "source": [
    "# create folders and files for clustering based splits\n",
    "\n",
    "os.chdir('./data/')\n",
    "for i in range(0,5):\n",
    "    os.mkdir('MOBC_final_jan22_cv' + str(i))\n",
    "    os.chdir('MOBC_final_jan22_cv' + str(i))\n",
    "    bc_mo_np_train, bc_mo_np_test, cp_np_train, cp_np_test, gesmo_np_train, gesmo_np_test, gesmobc_np_train, gesmobc_np_test, gemobc_np_train, gemobc_np_test, gemo_np_train, gemo_np_test, ge_np_train, \\\n",
    "        ge_np_test, mo_np_train, mo_np_test, ge_scaled_np_train, ge_scaled_np_test, assay_all_np_train, assay_all_np_test = \\\n",
    "        train_test_split_cluster(cp_np, gesmo_np, gesmobc_np, gemobc_np, bc_mo_np, gemo_np, ge_np, mo_np, ge_scaled_np, assay_all_np, i)\n",
    "    \n",
    "    print(bc_mo_np_train.shape, gemo_np_train.shape, ge_np_train.shape, mo_np_train.shape, assay_all_np_train.shape, np.array(assay_header)[:, np.newaxis].shape)\n",
    "    print(bc_mo_np_test.shape, gemo_np_test.shape, ge_np_test.shape, mo_np_test.shape, assay_all_np_test.shape, np.array(assay_header)[:, np.newaxis].shape)\n",
    "    \n",
    "    assay_train_npdf = np.concatenate((np.array(assay_header)[np.newaxis, :], assay_all_np_train), axis=0)\n",
    "    assay_test_npdf = np.concatenate((np.array(assay_header)[np.newaxis, :], assay_all_np_test), axis=0)\n",
    "    \n",
    "    assay_train_df = pd.DataFrame(data=assay_train_npdf[0:,0:])\n",
    "    assay_test_df = pd.DataFrame(data=assay_test_npdf[0:,0:])\n",
    "    \n",
    "    assay_train_df.to_csv('assay_matrix_discrete_train_scaff.csv', header=False, index=False)\n",
    "    assay_test_df.to_csv('assay_matrix_discrete_test_scaff.csv', header=False, index=False)\n",
    "    \n",
    "    np.savez('population_gemo_train.npz', features=gemo_np_train)\n",
    "    np.savez('population_gemo_test.npz', features=gemo_np_test)\n",
    "    np.savez('population_gesmo_train.npz', features=gesmo_np_train)\n",
    "    np.savez('population_gesmo_test.npz', features=gesmo_np_test)\n",
    "    np.savez('population_gemobc_train.npz', features=gemobc_np_train)\n",
    "    np.savez('population_gemobc_test.npz', features=gemobc_np_test)\n",
    "    np.savez('population_gesmobc_train.npz', features=gesmobc_np_train)\n",
    "    np.savez('population_gesmobc_test.npz', features=gesmobc_np_test)\n",
    "    np.savez('population_ge_train.npz', features=ge_np_train)\n",
    "    np.savez('population_ge_test.npz', features=ge_np_test)  \n",
    "    np.savez('population_mo_train.npz', features=mo_np_train)\n",
    "    np.savez('population_mo_test.npz', features=mo_np_test)\n",
    "    np.savez('population_mobc_train.npz', features=bc_mo_np_train)\n",
    "    np.savez('population_mobc_test.npz', features=bc_mo_np_test)  \n",
    "    np.savez('population_ge_scaled_train.npz', features=ge_scaled_np_train)\n",
    "    np.savez('population_ge_scaled_test.npz', features=ge_scaled_np_test)\n",
    "    np.savez('population_cp_train.npz', features=cp_np_train)\n",
    "    np.savez('population_cp_test.npz', features=cp_np_test)  \n",
    "    os.chdir('..')   "
   ]
  },
  {
   "cell_type": "code",
   "execution_count": null,
   "metadata": {},
   "outputs": [],
   "source": [
    "# this method is for scaffold-based clustering index file\n",
    "def train_test_split_with_index(indices_test, cp_np_array, gesmo_np_array, gesmobc_np_array, gemobc_np_array, bc_mo_np_array, gemo_np_array, ge_np_array, mo_np_array, ge_scaled_np_array, assay_all_np_array ):\n",
    "    mask=np.zeros(gemo_np_array.shape[0], dtype=bool)\n",
    "    mask[indices_test] = True\n",
    "    return bc_mo_np_array[~mask, :],  bc_mo_np_array[mask, :], cp_np_array[~mask, :], cp_np_array[mask, :], gesmo_np_array[~mask, :], gesmo_np_array[mask, :], gesmobc_np_array[~mask, :], gesmobc_np_array[mask, :], \\\n",
    "            gemobc_np_array[~mask, :], gemobc_np_array[mask, :], gemo_np_array[~mask, :], gemo_np_array[mask, :], ge_np_array[~mask, :], ge_np_array[mask, :], mo_np_array[~mask, :], \\\n",
    "            mo_np_array[mask, :], ge_scaled_np_array[~mask, :], ge_scaled_np_array[mask, :], assay_all_np_array[~mask, :], assay_all_np_array[mask, :]"
   ]
  },
  {
   "cell_type": "code",
   "execution_count": null,
   "metadata": {},
   "outputs": [],
   "source": [
    "os.chdir('../data/')\n",
    "with open('scaffold_based_split_jan22.npz', 'rb') as data:\n",
    "    chem_clusters = np.load(data, allow_pickle = True)\n",
    "    chem_clusters = chem_clusters['features']\n",
    "    \n",
    "for i in range(0,5):\n",
    "    os.mkdir('chemical_jan22_cv' + str(i))\n",
    "    os.chdir('chemical_jan22_cv' + str(i))\n",
    "    assay_all_np[assay_all_np==-1]=np.nan\n",
    "    bc_mo_np_train, bc_mo_np_test, cp_np_train, cp_np_test, gesmo_np_train, gesmo_np_test, gesmobc_np_train, gesmobc_np_test, gemobc_np_train, gemobc_np_test, gemo_np_train, gemo_np_test, ge_np_train, \\\n",
    "        ge_np_test, mo_np_train, mo_np_test, ge_scaled_np_train, ge_scaled_np_test, assay_all_np_train, assay_all_np_test = \\\n",
    "        train_test_split_with_index(chem_clusters[i], cp_np, gesmo_np, gesmobc_np, gemobc_np, bc_mo_np, gemo_np, ge_np, mo_np, ge_scaled_np, assay_all_np)\n",
    "    \n",
    "    print(gemobc_np_train.shape, bc_mo_np_train.shape, gemo_np_train.shape, ge_np_train.shape, mo_np_train.shape, assay_all_np_train.shape, np.array(assay_header)[:, np.newaxis].shape)\n",
    "    print(gemobc_np_test.shape, bc_mo_np_test.shape, gemo_np_test.shape, ge_np_test.shape, mo_np_test.shape, assay_all_np_test.shape, np.array(assay_header)[:, np.newaxis].shape)\n",
    "    \n",
    "    assay_train_npdf = np.concatenate((np.array(assay_header)[np.newaxis, :], assay_all_np_train), axis=0)\n",
    "    assay_test_npdf = np.concatenate((np.array(assay_header)[np.newaxis, :], assay_all_np_test), axis=0)\n",
    "    \n",
    "    assay_train_df = pd.DataFrame(data=assay_train_npdf[0:,0:])\n",
    "    assay_test_df = pd.DataFrame(data=assay_test_npdf[0:,0:])\n",
    "    \n",
    "    assay_train_df.to_csv('assay_matrix_discrete_train_scaff.csv', header=False, index=False)\n",
    "    assay_test_df.to_csv('assay_matrix_discrete_test_scaff.csv', header=False, index=False)\n",
    "    \n",
    "    np.savez('population_gemo_train.npz', features=gemo_np_train)\n",
    "    np.savez('population_gemo_test.npz', features=gemo_np_test)\n",
    "    np.savez('population_gesmo_train.npz', features=gesmo_np_train)\n",
    "    np.savez('population_gesmo_test.npz', features=gesmo_np_test)\n",
    "    np.savez('population_gemobc_train.npz', features=gemobc_np_train)\n",
    "    np.savez('population_gemobc_test.npz', features=gemobc_np_test)\n",
    "    np.savez('population_gesmobc_train.npz', features=gesmobc_np_train)\n",
    "    np.savez('population_gesmobc_test.npz', features=gesmobc_np_test)\n",
    "    np.savez('population_ge_train.npz', features=ge_np_train)\n",
    "    np.savez('population_ge_test.npz', features=ge_np_test)  \n",
    "    np.savez('population_mo_train.npz', features=mo_np_train)\n",
    "    np.savez('population_mo_test.npz', features=mo_np_test)\n",
    "    np.savez('population_mobc_train.npz', features=bc_mo_np_train)\n",
    "    np.savez('population_mobc_test.npz', features=bc_mo_np_test)  \n",
    "    np.savez('population_ge_scaled_train.npz', features=ge_scaled_np_train)\n",
    "    np.savez('population_ge_scaled_test.npz', features=ge_scaled_np_test)\n",
    "    np.savez('population_cp_train.npz', features=cp_np_train)\n",
    "    np.savez('population_cp_test.npz', features=cp_np_test)  \n",
    "    os.chdir('..')"
   ]
  },
  {
   "cell_type": "code",
   "execution_count": null,
   "metadata": {},
   "outputs": [],
   "source": [
    "# plot UMAP of classical features + plot UMAP of classical features colored by scaffold-based splits\n",
    "with open('../data/scaffold_based_split_jan22.npz', 'rb') as data:\n",
    "    colors = np.zeros((cp_np.shape[0]))\n",
    "    indices = np.load(data, allow_pickle=True)\n",
    "    indices = indices['features']\n",
    "    for i in range(5):\n",
    "        colors[indices[i]] = i\n",
    "\n",
    "reducer = umap.UMAP()\n",
    "embeddings = reducer.fit_transform(cp_np)\n",
    "plt.figure(figsize=(10,10))\n",
    "plt.scatter(x=embeddings[:,0], y=embeddings[:,1])\n",
    "\n",
    "plt.figure(figsize=(10,10))\n",
    "plt.scatter(embeddings[:, 0], embeddings[:, 1], c=colors, s=50, cmap='Pastel1')"
   ]
  },
  {
   "cell_type": "code",
   "execution_count": null,
   "metadata": {},
   "outputs": [],
   "source": []
  }
 ],
 "metadata": {
  "kernelspec": {
   "display_name": "Python 3 (ipykernel)",
   "language": "python",
   "name": "python3"
  },
  "language_info": {
   "codemirror_mode": {
    "name": "ipython",
    "version": 3
   },
   "file_extension": ".py",
   "mimetype": "text/x-python",
   "name": "python",
   "nbconvert_exporter": "python",
   "pygments_lexer": "ipython3",
   "version": "3.7.10"
  }
 },
 "nbformat": 4,
 "nbformat_minor": 4
}
