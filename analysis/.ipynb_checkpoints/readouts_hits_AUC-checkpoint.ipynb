{
 "cells": [
  {
   "cell_type": "code",
   "execution_count": null,
   "metadata": {
    "collapsed": true
   },
   "outputs": [],
   "source": [
    "import numpy as np\n",
    "import pandas as pd\n",
    "import seaborn as sb\n",
    "import umap\n",
    "from matplotlib import pyplot as plt"
   ]
  },
  {
   "cell_type": "code",
   "execution_count": null,
   "metadata": {},
   "outputs": [],
   "source": [
    "#Read assay files\n",
    "\n",
    "assay_train_file = '/raid/data/PUMA/4publication/data/assay_matrix_discrete_train_scaff_filt.csv'\n",
    "assay_test_file = '/home/jupyter-nmoshkov@broadinst-04e9f/assay_matrix_discrete_test_scaff.csv'\n",
    "assay_train_df = pd.read_csv(assay_train_file).fillna(-1)\n",
    "assay_test_df = pd.read_csv(assay_test_file).fillna(-1)\n",
    "assay_all_df = pd.concat([assay_train_df, assay_test_df])\n",
    "assay_all_np = assay_all_df.to_numpy()[:, 1:].astype('int64')\n",
    "assay_all_np"
   ]
  },
  {
   "cell_type": "code",
   "execution_count": null,
   "metadata": {
    "collapsed": true
   },
   "outputs": [],
   "source": [
    "# Consider only hits\n",
    "assay_all_np_true = np.where(assay_all_np == 1,1,0)"
   ]
  },
  {
   "cell_type": "code",
   "execution_count": null,
   "metadata": {},
   "outputs": [],
   "source": [
    "assay_all_np_true"
   ]
  },
  {
   "cell_type": "code",
   "execution_count": null,
   "metadata": {},
   "outputs": [],
   "source": [
    "plt.gcf().set_size_inches(15, 15)\n",
    "sb.heatmap(assay_all_np_true)"
   ]
  },
  {
   "cell_type": "code",
   "execution_count": null,
   "metadata": {},
   "outputs": [],
   "source": [
    "# intersection matrix, diagonal values are zeros\n",
    "intersections = np.zeros((529,529))\n",
    "assay_activations = []\n",
    "for i in range(assay_all_np_true.shape[1]):\n",
    "    assay_activations.append(set(np.argwhere(assay_all_np_true[:,i]==1).flatten()))\n",
    "    \n",
    "for i in range(529):\n",
    "    for j in range(529):\n",
    "        if i != j:\n",
    "            intersections[i,j] = len(assay_activations[i].intersection(assay_activations[j]))\n",
    "            intersections[j,i] = len(assay_activations[i].intersection(assay_activations[j]))\n",
    "        \n",
    "        \n",
    "plt.gcf().set_size_inches(13, 13)    \n",
    "sb.heatmap(intersections)"
   ]
  },
  {
   "cell_type": "code",
   "execution_count": null,
   "metadata": {},
   "outputs": [],
   "source": [
    "# intersection over union\n",
    "intersections_relative = np.zeros((529,529))\n",
    "assay_activations = []\n",
    "for i in range(assay_all_np_true.shape[1]):\n",
    "    assay_activations.append(set(np.argwhere(assay_all_np_true[:,i]==1).flatten()))\n",
    "    \n",
    "for i in range(529):\n",
    "    for j in range(529):\n",
    "        if len(assay_activations[i]) != 0 and len(assay_activations[j]) != 0:\n",
    "            intersections_relative[i,j] = len(assay_activations[i].intersection(assay_activations[j])) / len(assay_activations[i].union(assay_activations[j]))\n",
    "            intersections_relative[j,i] = len(assay_activations[i].intersection(assay_activations[j])) / len(assay_activations[i].union(assay_activations[j]))\n",
    "        else:\n",
    "            intersections_relative[i,j] = 0\n",
    "            intersections_relative[j,i] = 0\n",
    "        \n",
    "        \n",
    "plt.gcf().set_size_inches(13, 13)    \n",
    "sb.heatmap(intersections_relative)"
   ]
  },
  {
   "cell_type": "code",
   "execution_count": null,
   "metadata": {},
   "outputs": [],
   "source": [
    "#Clustering\n",
    "plt.gcf().set_size_inches(17, 30)  \n",
    "pl = sb.clustermap(intersections_relative, metric = 'euclidean')"
   ]
  },
  {
   "cell_type": "code",
   "execution_count": null,
   "metadata": {
    "collapsed": true
   },
   "outputs": [],
   "source": [
    "# Make an IoU matrix with the order of element from clustering\n",
    "intersections_relative_reorder = np.zeros((529,529))\n",
    "for i in range(len(pl.dendrogram_row.reordered_ind)):\n",
    "    for j in range(len(pl.dendrogram_row.reordered_ind)):\n",
    "        intersections_relative_reorder[j,i] = intersections_relative[pl.dendrogram_row.reordered_ind[j],pl.dendrogram_row.reordered_ind[i]]\n",
    "        intersections_relative_reorder[i,j] = intersections_relative[pl.dendrogram_row.reordered_ind[i],pl.dendrogram_row.reordered_ind[j]]"
   ]
  },
  {
   "cell_type": "code",
   "execution_count": null,
   "metadata": {},
   "outputs": [],
   "source": [
    "intersections_relative_reorder_n = np.zeros((332,332))\n",
    "for i in range(332):\n",
    "    for j in range(332):\n",
    "        intersections_relative_reorder_n[j,i] = intersections_relative[pl.dendrogram_row.reordered_ind[j],pl.dendrogram_row.reordered_ind[i]]\n",
    "        intersections_relative_reorder_n[i,j] = intersections_relative[pl.dendrogram_row.reordered_ind[i],pl.dendrogram_row.reordered_ind[j]]\n",
    "\n",
    "    \n",
    "plt.gcf().set_size_inches(10, 10) \n",
    "sb.heatmap(intersections_relative_reorder_n)"
   ]
  },
  {
   "cell_type": "code",
   "execution_count": null,
   "metadata": {},
   "outputs": [],
   "source": [
    "all_miss = np.all(assay_all_np[:,pl.dendrogram_row.reordered_ind[:332]] == -1, axis=1)\n",
    "print(np.argwhere(all_miss) == True)"
   ]
  },
  {
   "cell_type": "code",
   "execution_count": null,
   "metadata": {
    "collapsed": true
   },
   "outputs": [],
   "source": [
    "#now only val set "
   ]
  },
  {
   "cell_type": "code",
   "execution_count": null,
   "metadata": {},
   "outputs": [],
   "source": [
    "assay_all_np_true"
   ]
  },
  {
   "cell_type": "code",
   "execution_count": null,
   "metadata": {
    "collapsed": true
   },
   "outputs": [],
   "source": [
    "with open('/home/jupyter-nmoshkov@broadinst-04e9f/PUMA/scaffold_based_split.npz', 'rb') as data:\n",
    "    chem_clusters = np.load(data, allow_pickle = True)\n",
    "    chem_clusters = chem_clusters['features']"
   ]
  },
  {
   "cell_type": "code",
   "execution_count": null,
   "metadata": {},
   "outputs": [],
   "source": [
    "assay_all_np_true = assay_all_np_true[chem_clusters[4]]\n",
    "assay_all_np_true.shape"
   ]
  },
  {
   "cell_type": "code",
   "execution_count": null,
   "metadata": {},
   "outputs": [],
   "source": [
    "plt.gcf().set_size_inches(15, 15)\n",
    "sb.heatmap(assay_all_np_true)"
   ]
  },
  {
   "cell_type": "code",
   "execution_count": null,
   "metadata": {
    "collapsed": true
   },
   "outputs": [],
   "source": [
    "intersections_relative = np.zeros((529,529))\n",
    "assay_activations = []\n",
    "for i in range(assay_all_np_true.shape[1]):\n",
    "    assay_activations.append(set(np.argwhere(assay_all_np_true[:,i]==1).flatten()))\n",
    "    \n",
    "for i in range(529):\n",
    "    for j in range(529):\n",
    "        if len(assay_activations[i]) != 0 and len(assay_activations[j]) != 0:\n",
    "            intersections_relative[i,j] = len(assay_activations[i].intersection(assay_activations[j])) / len(assay_activations[i].union(assay_activations[j]))\n",
    "            intersections_relative[j,i] = len(assay_activations[i].intersection(assay_activations[j])) / len(assay_activations[i].union(assay_activations[j]))\n",
    "        else:\n",
    "            intersections_relative[i,j] = 0\n",
    "            intersections_relative[j,i] = 0\n",
    "        \n",
    "        \n",
    "plt.gcf().set_size_inches(13, 13)    \n",
    "sb.heatmap(intersections_relative)"
   ]
  },
  {
   "cell_type": "code",
   "execution_count": null,
   "metadata": {
    "collapsed": true
   },
   "outputs": [],
   "source": [
    "plt.gcf().set_size_inches(25,25)  \n",
    "pl = sb.clustermap(intersections_relative, metric = 'euclidean', cbar = False)\n",
    "pl.cax.set_visible(False)\n",
    "pl.ax_row_dendrogram.set_visible(False)\n",
    "pl.ax_col_dendrogram.set_visible(False)\n",
    "plt.show()"
   ]
  },
  {
   "cell_type": "code",
   "execution_count": null,
   "metadata": {
    "collapsed": true
   },
   "outputs": [],
   "source": [
    "intersections_relative.shape"
   ]
  },
  {
   "cell_type": "code",
   "execution_count": null,
   "metadata": {
    "collapsed": true
   },
   "outputs": [],
   "source": []
  }
 ],
 "metadata": {
  "kernelspec": {
   "display_name": "Python 3 (ipykernel)",
   "language": "python",
   "name": "python3"
  },
  "language_info": {
   "codemirror_mode": {
    "name": "ipython",
    "version": 3
   },
   "file_extension": ".py",
   "mimetype": "text/x-python",
   "name": "python",
   "nbconvert_exporter": "python",
   "pygments_lexer": "ipython3",
   "version": "3.7.10"
  }
 },
 "nbformat": 4,
 "nbformat_minor": 4
}
