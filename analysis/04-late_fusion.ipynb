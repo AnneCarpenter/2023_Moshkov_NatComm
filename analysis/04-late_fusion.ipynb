{
 "cells": [
  {
   "cell_type": "code",
   "execution_count": 1,
   "metadata": {},
   "outputs": [],
   "source": [
    "import numpy as np\n",
    "import pandas as pd"
   ]
  },
  {
   "attachments": {},
   "cell_type": "markdown",
   "metadata": {},
   "source": [
    "Loop over splits, the prediction files per split can be found on Zenodo (dataset). \n",
    "\n",
    "The files produced by this notebook are also available on Zenodo (dataset)."
   ]
  },
  {
   "cell_type": "code",
   "execution_count": 3,
   "metadata": {},
   "outputs": [],
   "source": [
    "for i in range(0,1):\n",
    "    pred_folder = '../predictions/chemical_cv{}test/predictions/'.format(i)\n",
    "    predictions_file_cs = pred_folder + 'predictions_cp_es_op.csv'\n",
    "    predictions_cs = pd.read_csv(predictions_file_cs)\n",
    "    cs_header = predictions_cs.columns\n",
    "    predictions_cs_np = predictions_cs.to_numpy()[:, 1:].astype('float')\n",
    "    cs_compounds = list(predictions_cs.to_numpy()[:, 0])\n",
    "\n",
    "    predictions_file_mobc = pred_folder + 'predictions_mobc_es_op.csv'\n",
    "    predictions_mobc = pd.read_csv(predictions_file_mobc)\n",
    "    mobc_header = predictions_mobc.columns\n",
    "    predictions_mobc_np = predictions_mobc.to_numpy()[:, 1:].astype('float')\n",
    "    mobc_compounds = list(predictions_mobc.to_numpy()[:, 0])\n",
    "\n",
    "    predictions_file_ge = pred_folder + 'predictions_ge_es_op.csv'\n",
    "    predictions_ge = pd.read_csv(predictions_file_ge)\n",
    "    ge_header = predictions_ge.columns\n",
    "    predictions_ge_np = predictions_ge.to_numpy()[:, 1:].astype('float')\n",
    "    ge_compounds = list(predictions_ge.to_numpy()[:, 0])\n",
    "    ge_compounds_ = predictions_ge['smiles']\n",
    "    \n",
    "    \n",
    "    ge_mobc = np.zeros(predictions_ge_np.shape).astype('float')\n",
    "    cs_mobc = np.zeros(predictions_ge_np.shape).astype('float')\n",
    "    cs_ge = np.zeros(predictions_ge_np.shape).astype('float')\n",
    "    cs_ge_mobc = np.zeros(predictions_ge_np.shape).astype('float')\n",
    "    \n",
    "    \n",
    "    if (list(ge_header) == list(cs_header) and list(cs_header) == list(mobc_header)):\n",
    "        if (predictions_cs_np.shape == predictions_ge_np.shape and predictions_cs_np.shape == predictions_mobc_np.shape):\n",
    "            if mobc_compounds == ge_compounds and ge_compounds == cs_compounds:\n",
    "                for i in range(predictions_ge_np.shape[0]):\n",
    "                    for j in range(predictions_ge_np.shape[1]):\n",
    "                        ge_mobc[i,j] = max(predictions_ge_np[i,j], predictions_mobc_np[i,j])\n",
    "                        cs_mobc[i,j] = max(predictions_cs_np[i,j], predictions_mobc_np[i,j])\n",
    "                        cs_ge[i,j] = max(predictions_cs_np[i,j], predictions_ge_np[i,j])\n",
    "                        cs_ge_mobc[i,j] = max(predictions_cs_np[i,j], predictions_ge_np[i,j], predictions_mobc_np[i,j])\n",
    "        \n",
    "    \n",
    "    \n",
    "    ge_mobc_df = pd.DataFrame(data = ge_mobc)\n",
    "    cs_mobc_df = pd.DataFrame(data = cs_mobc)\n",
    "    cs_ge_df = pd.DataFrame(data = cs_ge) \n",
    "    cs_ge_mobc_df = pd.DataFrame(data = cs_ge_mobc)\n",
    "    \n",
    "    ge_mobc_df = pd.concat([ge_compounds_, ge_mobc_df],axis=1)\n",
    "    cs_mobc_df = pd.concat([ge_compounds_, cs_mobc_df],axis=1)\n",
    "    cs_ge_df = pd.concat([ge_compounds_, cs_ge_df],axis=1)\n",
    "    cs_ge_mobc_df = pd.concat([ge_compounds_, cs_ge_mobc_df],axis=1)\n",
    "    \n",
    "    ge_mobc_df.columns = ge_header\n",
    "    cs_mobc_df.columns = ge_header\n",
    "    cs_ge_df.columns = ge_header\n",
    "    cs_ge_mobc_df.columns = ge_header\n",
    "    \n",
    "    ge_mobc_df.to_csv(pred_folder + 'late_fusion_ge_mobc.csv', index=False)\n",
    "    cs_mobc_df.to_csv(pred_folder + 'late_fusion_cs_mobc.csv', index=False)\n",
    "    cs_ge_df.to_csv(pred_folder + 'late_fusion_cs_ge.csv', index=False)\n",
    "    cs_ge_mobc_df.to_csv(pred_folder + 'late_fusion_cs_ge_mobc.csv', index=False)"
   ]
  }
 ],
 "metadata": {
  "kernelspec": {
   "display_name": "Python 3.9.13 ('base')",
   "language": "python",
   "name": "python3"
  },
  "language_info": {
   "codemirror_mode": {
    "name": "ipython",
    "version": 3
   },
   "file_extension": ".py",
   "mimetype": "text/x-python",
   "name": "python",
   "nbconvert_exporter": "python",
   "pygments_lexer": "ipython3",
   "version": "3.9.13"
  },
  "vscode": {
   "interpreter": {
    "hash": "edf2f84eb977a12e0978a65dba77ae3558c42a07fd1fc4f86ffa70d5ed4d20be"
   }
  }
 },
 "nbformat": 4,
 "nbformat_minor": 4
}
