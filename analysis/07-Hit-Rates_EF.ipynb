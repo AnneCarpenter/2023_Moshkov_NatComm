{
 "cells": [
  {
   "cell_type": "code",
   "execution_count": null,
   "metadata": {},
   "outputs": [],
   "source": [
    "import pandas as pd\n",
    "import numpy as np\n",
    "import seaborn as sb\n",
    "import matplotlib.pyplot as plt"
   ]
  },
  {
   "cell_type": "code",
   "execution_count": null,
   "metadata": {},
   "outputs": [],
   "source": [
    "split = 'chemical_cv4' # run notebook for each split of interest \n",
    "data_ef = pd.read_csv(\"../predictions/{}/2022_01_evaluation_all_data_python_EF.csv\".format(split))\n",
    "data_auc = pd.read_csv(\"../predictions/{}/2022_01_evaluation_all_data_python.csv\".format(split))\n",
    "data_hit = pd.read_csv(\"../predictions/toprank_{}_hitsnorm.csv\".format(split)) # Those tables are generated using previous notebook\n",
    "modalities_dict = {'mobc_es_op':'MO', 'cp_es_op':'CS', 'ge_es_op':'GE'}\n",
    "\n",
    "data_ef['descriptor'].replace(modalities_dict, inplace=True)\n",
    "data_auc['descriptor'].replace(modalities_dict, inplace=True)"
   ]
  },
  {
   "cell_type": "code",
   "execution_count": null,
   "metadata": {},
   "outputs": [],
   "source": [
    "data = pd.merge(data_ef, data_auc, on=['assay_id','descriptor'])\n",
    "data = pd.merge(data, data_hit, on=['assay_id', 'descriptor'])\n",
    "data.drop(columns = ['AP_x', 'pr_auc_x', 'AP_y', 'pr_auc_y'], inplace = True)\n",
    "data.drop_duplicates(inplace=True)\n",
    "data.reset_index(inplace = True, drop = True)"
   ]
  },
  {
   "cell_type": "code",
   "execution_count": null,
   "metadata": {},
   "outputs": [],
   "source": [
    "plt.figure(figsize=(9,6))\n",
    "\n",
    "plt.plot(np.arange(0,0.6,0.01), 1/np.arange(0,0.6,0.01), color=\"red\", linestyle=\"--\")\n",
    "plt.axvline(x=0.00, color=\"gray\")\n",
    "plt.axvline(x=0.015, color=\"green\", linestyle=\"--\")\n",
    "plt.axhline(y=0.00, color=\"gray\")\n",
    "plt.ylim(-0.01,np.nanmax(data['EF1%'])+5)\n",
    "plt.xlim(-0.01,0.6)\n",
    "\n",
    "single_mod_data = data[data['descriptor'].isin(['CS','MO','GE'])]\n",
    "D = single_mod_data[~(single_mod_data.auc_90_x == True) & (single_mod_data.top_rank_hit_rate > 0) & (single_mod_data.hit_rate < 0.6)]\n",
    "print(len(D))\n",
    "sb.scatterplot(x=D.hit_rate, y=D['EF1%'], color=\"gold\", s=25)\n",
    "D = single_mod_data[(single_mod_data.auc_90_x == True) & (single_mod_data.top_rank_hit_rate > 0)]\n",
    "print(len(D))\n",
    "\n",
    "sb.scatterplot(x=D.hit_rate, y=D['EF1%'], color=\"purple\", s=75)\n",
    "D = single_mod_data[(single_mod_data.auc_90_x == True) & (single_mod_data.top_rank_hit_rate > 0) & (single_mod_data.hit_rate < 0.01)]\n",
    "\n",
    "print(np.mean(D['EF1%']))"
   ]
  }
 ],
 "metadata": {
  "kernelspec": {
   "display_name": "Python 3.9.13 ('base')",
   "language": "python",
   "name": "python3"
  },
  "language_info": {
   "codemirror_mode": {
    "name": "ipython",
    "version": 3
   },
   "file_extension": ".py",
   "mimetype": "text/x-python",
   "name": "python",
   "nbconvert_exporter": "python",
   "pygments_lexer": "ipython3",
   "version": "3.9.13"
  },
  "vscode": {
   "interpreter": {
    "hash": "edf2f84eb977a12e0978a65dba77ae3558c42a07fd1fc4f86ffa70d5ed4d20be"
   }
  }
 },
 "nbformat": 4,
 "nbformat_minor": 4
}
