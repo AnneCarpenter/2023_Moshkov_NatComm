{
 "cells": [
  {
   "cell_type": "code",
   "execution_count": null,
   "metadata": {},
   "outputs": [],
   "source": [
    "import numpy as np\n",
    "import pandas as pd\n",
    "import matplotlib.pylab as plt\n",
    "import seaborn as sb"
   ]
  },
  {
   "cell_type": "code",
   "execution_count": null,
   "metadata": {},
   "outputs": [],
   "source": [
    "# Modalities are as in Supplementary Figure 5, in case you want to plot combined modalities, uncomment the line. \n",
    "modalities = ['mobc_es_op', 'cp_es_op', 'ge_es_op']\n",
    "#modalities = ['mobc_es_op', 'cp_es_op', 'ge_es_op' 'late_fusion_cs_ge', 'late_fusion_cs_ge_mobc', 'late_fusion_cs_mobc', 'late_fusion_ge_mobc']\n",
    "\n",
    "modalities_dict = {'mobc_es_op':'MO', 'cp_es_op':'CS', 'ge_es_op':'GE', 'late_fusion_cs_ge':'CS+GE', 'late_fusion_cs_ge_mobc':'CS+GE+MO', 'late_fusion_cs_mobc':'CS+MO', 'late_fusion_ge_mobc':'GE+MO'}\n",
    "colors_dict = {'MO':'#6aa84f', 'CS':'#f1c232', 'GE':'#4a86e8', 'CS+GE':'#f8766d', 'CS+GE+MO':'#7cae00', 'CS+MO':'#00bfc4', 'GE+MO':'#c77cff'}"
   ]
  },
  {
   "cell_type": "code",
   "execution_count": null,
   "metadata": {},
   "outputs": [],
   "source": [
    "assay_file = '../data/assay_matrix_discrete_270_assays.csv'\n",
    "median_aucs_file = '../predictions/scaffold_median_AUC.csv'\n",
    "assay_df = pd.read_csv(assay_file)\n",
    "median_aucs_df = pd.read_csv(median_aucs_file).set_index('assay_id')\n",
    "\n",
    "#Filter, leave only certain modalities + late fusion\n",
    "median_aucs_df = median_aucs_df[median_aucs_df['descriptor'].isin(modalities)]\n",
    "median_aucs_df['descriptor'].replace(modalities_dict, inplace=True)\n",
    "\n",
    "assays = assay_df.columns[1:]\n",
    "\n",
    "readouts = {}\n",
    "hits = {}\n",
    "for a in assays:\n",
    "    readouts[a] = np.count_nonzero(~np.isnan(assay_df[a].to_numpy()))\n",
    "    hits[a] = np.nansum(assay_df[a].to_numpy().astype(np.float))\n",
    "\n",
    "    \n",
    "readouts_df = pd.Series(readouts, name=\"readouts\").to_frame()\n",
    "hits_df = pd.Series(hits, name=\"hits\").to_frame()\n",
    "median_aucs_df_readouts_hits_df  = pd.merge(median_aucs_df, readouts_df, left_index=True, right_index=True)\n",
    "median_aucs_df_readouts_hits_df  = pd.merge(median_aucs_df_readouts_hits_df, hits_df, left_index=True, right_index=True)\n",
    "\n",
    "sb.lmplot(x=\"readouts\", y=\"auc\", hue=\"descriptor\", data=median_aucs_df_readouts_hits_df, height = 9,aspect = 1.5, palette=colors_dict, fit_reg=True)\n",
    "plt.show()\n",
    "sb.lmplot(x=\"hits\", y=\"auc\", hue=\"descriptor\", data=median_aucs_df_readouts_hits_df, height = 9,aspect = 1.5, palette=colors_dict, fit_reg=True)\n",
    "plt.show()"
   ]
  },
  {
   "cell_type": "code",
   "execution_count": null,
   "metadata": {},
   "outputs": [],
   "source": [
    "grid = sb.lmplot(x=\"readouts\", y=\"auc\", hue=\"descriptor\", data=median_aucs_df_readouts_hits_df, height = 9,aspect = 1.5, palette=colors_dict, fit_reg=False)\n",
    "grid.set(xscale=\"log\")\n",
    "plt.show()\n",
    "grid = sb.lmplot(x=\"hits\", y=\"auc\", hue=\"descriptor\", data=median_aucs_df_readouts_hits_df, height = 9,aspect = 1.5, palette=colors_dict, fit_reg=False)\n",
    "grid.set(xscale=\"log\")\n",
    "plt.show()"
   ]
  },
  {
   "cell_type": "code",
   "execution_count": null,
   "metadata": {},
   "outputs": [],
   "source": [
    "median_auc = '../predictions/scaffold_median_AUC.csv'\n",
    "median_ef = '../predictions/scaffold_median_EF.csv'\n",
    "median_auc_df = pd.read_csv(median_auc)\n",
    "median_ef_df = pd.read_csv(median_ef)"
   ]
  },
  {
   "cell_type": "code",
   "execution_count": null,
   "metadata": {},
   "outputs": [],
   "source": [
    "median_auc_ef_df = pd.merge(median_auc_df, median_ef_df, on=['assay_id', 'descriptor'])"
   ]
  },
  {
   "cell_type": "code",
   "execution_count": null,
   "metadata": {},
   "outputs": [],
   "source": [
    "colors_dict = {'mobc_es_op':'#6aa84f', 'cp_es_op':'#f1c232', 'ge_es_op':'#4a86e8'}\n",
    "sb.set(rc={'figure.figsize':(11.7,8.27)})\n",
    "sb.set_style(\"white\")\n",
    "for ef_th in [\"EF1%\",\"EF5%\",\"EF10%\"]:\n",
    "    for mod in colors_dict.keys():\n",
    "        sb.scatterplot(x=\"auc\", y=ef_th, data=median_auc_ef_df[median_auc_ef_df.descriptor == mod], hue=\"descriptor\", palette=colors_dict, legend=False)\n",
    "        plt.show()"
   ]
  }
 ],
 "metadata": {
  "kernelspec": {
   "display_name": "Python 3.9.13 ('base')",
   "language": "python",
   "name": "python3"
  },
  "language_info": {
   "codemirror_mode": {
    "name": "ipython",
    "version": 3
   },
   "file_extension": ".py",
   "mimetype": "text/x-python",
   "name": "python",
   "nbconvert_exporter": "python",
   "pygments_lexer": "ipython3",
   "version": "3.9.13"
  },
  "vscode": {
   "interpreter": {
    "hash": "edf2f84eb977a12e0978a65dba77ae3558c42a07fd1fc4f86ffa70d5ed4d20be"
   }
  }
 },
 "nbformat": 4,
 "nbformat_minor": 4
}
