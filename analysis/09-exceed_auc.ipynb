{
 "cells": [
  {
   "cell_type": "code",
   "execution_count": null,
   "metadata": {},
   "outputs": [],
   "source": [
    "import numpy as np\n",
    "import pandas as pd\n",
    "import seaborn as sb\n",
    "from matplotlib import pyplot as plt\n",
    "import csv"
   ]
  },
  {
   "cell_type": "code",
   "execution_count": null,
   "metadata": {},
   "outputs": [],
   "source": [
    "assay_file = '../data/assay_matrix_discrete_270_assays.csv' # the same assay matrix, where blanks are replaced with -1\n",
    "assay_df = pd.read_csv(assay_file).fillna(-1)\n",
    "assay_header = assay_df.columns[1:]\n",
    "assay_np = assay_df.to_numpy()[:, 1:].astype('int64')"
   ]
  },
  {
   "cell_type": "code",
   "execution_count": null,
   "metadata": {},
   "outputs": [],
   "source": [
    "assay_np_true = np.where(assay_np == 1,1,0)\n",
    "intersections_relative = np.zeros((270,270))\n",
    "assay_activations = []\n",
    "for i in range(assay_np_true.shape[1]):\n",
    "    assay_activations.append(set(np.argwhere(assay_np_true[:,i]==1).flatten()))\n",
    "    \n",
    "for i in range(270):\n",
    "    for j in range(270):\n",
    "        if len(assay_activations[i]) != 0 and len(assay_activations[j]) != 0:\n",
    "            intersections_relative[i,j] = len(assay_activations[i].intersection(assay_activations[j])) / len(assay_activations[i].union(assay_activations[j]))\n",
    "            intersections_relative[j,i] = len(assay_activations[i].intersection(assay_activations[j])) / len(assay_activations[i].union(assay_activations[j]))\n",
    "        else:\n",
    "            intersections_relative[i,j] = 0\n",
    "            intersections_relative[j,i] = 0\n",
    "        \n",
    "        \n",
    "plt.gcf().set_size_inches(13, 13)    \n",
    "pl = sb.clustermap(intersections_relative, metric = 'cosine')"
   ]
  },
  {
   "cell_type": "code",
   "execution_count": null,
   "metadata": {},
   "outputs": [],
   "source": [
    "assay_header = list(assay_header)\n",
    "modalities = ['cp', 'mobc','ge']\n",
    "palette = {0: 'red', 1: 'blue', 2: 'blue', 3: 'blue', 4: 'blue', 5: 'blue'}\n",
    "auc_to_measure = 'auc_90'\n",
    "for modality in modalities:\n",
    "    assay_counts = {}\n",
    "    for i in range(5):\n",
    "        pred_final_file = '../predictions/chemical_cv{}/2022_01_evaluation_all_data_python.csv'.format(i)\n",
    "        with open(pred_final_file) as f:\n",
    "            reader = csv.reader(f)\n",
    "            measure = next(reader).index(auc_to_measure)\n",
    "            for row in reader:\n",
    "                if row[2] == '{}_es_op'.format(modality):\n",
    "                    if row[0] not in assay_counts.keys() and row[measure] == 'TRUE':\n",
    "                        assay_counts[row[0]] = 1\n",
    "                    elif row[0] in assay_counts.keys() and row[measure] == 'TRUE':\n",
    "                        assay_counts[row[0]] =  assay_counts[row[0]] + 1\n",
    "                    elif row[0] not in assay_counts.keys() and row[measure] != 'TRUE':\n",
    "                        assay_counts[row[0]] = 0\n",
    "    \n",
    "\n",
    "    counts_matrix = np.empty(270, dtype=object)\n",
    "    for key in assay_counts.keys():\n",
    "        counts_matrix[assay_header.index(key)] = assay_counts[key]\n",
    "                \n",
    "    intersections_relative_df = pd.DataFrame(data=intersections_relative)\n",
    "    counts_matrix_df = pd.DataFrame(data=counts_matrix)\n",
    "    intersections_relative_counts_matrix_df = pd.concat([counts_matrix_df, intersections_relative_df], axis=1)\n",
    "    intersections_relative_counts_matrix_df.columns = ['auc09'] + assay_header\n",
    "    row_colors = intersections_relative_counts_matrix_df.auc09.map(palette)\n",
    "    print(modality, list(row_colors).count('blue'))\n",
    "    sb.clustermap(intersections_relative_counts_matrix_df.iloc[:,1:], metric=\"cosine\", row_colors=row_colors)\n",
    "    plt.show()"
   ]
  }
 ],
 "metadata": {
  "kernelspec": {
   "display_name": "Python 3.9.13 ('base')",
   "language": "python",
   "name": "python3"
  },
  "language_info": {
   "codemirror_mode": {
    "name": "ipython",
    "version": 3
   },
   "file_extension": ".py",
   "mimetype": "text/x-python",
   "name": "python",
   "nbconvert_exporter": "python",
   "pygments_lexer": "ipython3",
   "version": "3.9.13"
  },
  "vscode": {
   "interpreter": {
    "hash": "edf2f84eb977a12e0978a65dba77ae3558c42a07fd1fc4f86ffa70d5ed4d20be"
   }
  }
 },
 "nbformat": 4,
 "nbformat_minor": 4
}
