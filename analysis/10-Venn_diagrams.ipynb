{
 "cells": [
  {
   "cell_type": "code",
   "execution_count": null,
   "id": "ad99859d",
   "metadata": {},
   "outputs": [],
   "source": [
    "import pandas as pd\n",
    "from matplotlib import pyplot as plt\n",
    "from venn import venn"
   ]
  },
  {
   "cell_type": "code",
   "execution_count": null,
   "id": "1e5e0faf",
   "metadata": {},
   "outputs": [],
   "source": [
    "# Generate Venn diagram for single modalities and AUC 0.9\n",
    "df_dataset = pd.read_csv('../predictions/scaffold_median_AUC.csv')\n",
    "cs = df_dataset[(df_dataset['descriptor'] == 'cp_es_op')][(df_dataset['auc_90'] == True)]\n",
    "ge = df_dataset[(df_dataset['descriptor'] == 'ge_es_op')][(df_dataset['auc_90'] == True)]\n",
    "mo = df_dataset[(df_dataset['descriptor'] == 'mobc_es_op')][(df_dataset['auc_90'] == True)] \n",
    "\n",
    "plt.figure(figsize=(4,4))\n",
    "set1 = set(cs['assay_id'])\n",
    "set2 = set(ge['assay_id'])\n",
    "set3 = set(mo['assay_id'])\n",
    "\n",
    "# Adjust circle sizes in Illustrator\n",
    "plt.figure(figsize=(9,9))\n",
    "dict_set = {'CS': set1, 'GE':set2, 'MO-BC':set3}\n",
    "cmaps = [\"cool\", list(\"rgb\"), \"plasma\", \"viridis\", \"Set1\"]\n",
    "plt.figure(figsize=(9,9))\n",
    "cmap = [\"#F1C232\",\"#6FA8DC\",\"#93C47C\"]\n",
    "venn(dict_set, cmap=cmap, fontsize=16, legend_loc=None)\n",
    "plt.savefig(\"../plots/venn_single_modalities_90.svg\")"
   ]
  },
  {
   "cell_type": "code",
   "execution_count": null,
   "id": "82ee422d",
   "metadata": {},
   "outputs": [],
   "source": [
    "# Generate Venn diagram for combined modalities and AUC 0.9\n",
    "df_dataset = pd.read_csv('../predictions/scaffold_median_AUC.csv')\n",
    "csge = df_dataset[(df_dataset['descriptor'] == 'late_fusion_cs_ge')][(df_dataset['auc_90'] == True)]\n",
    "gemo = df_dataset[(df_dataset['descriptor'] == 'late_fusion_ge_mobc')][(df_dataset['auc_90'] == True)]\n",
    "csmo = df_dataset[(df_dataset['descriptor'] == 'late_fusion_cs_mobc')][(df_dataset['auc_90'] == True)]\n",
    "csgemo = df_dataset[(df_dataset['descriptor'] == 'late_fusion_cs_ge_mobc')][(df_dataset['auc_90'] == True)] \n",
    "\n",
    "plt.figure(figsize=(4,4))\n",
    "set1 = set(csge['assay_id'])\n",
    "set2 = set(gemo['assay_id'])\n",
    "set3 = set(csmo['assay_id'])\n",
    "set4 = set(csgemo['assay_id'])\n",
    "\n",
    "dict_set = {'csge': set1, 'gemo':set2, 'csmo':set3, 'csgemo':set4}\n",
    "cmaps = [\"cool\", list(\"rgb\"), \"plasma\", \"viridis\", \"Set1\"]\n",
    "plt.figure(figsize=(9,9))\n",
    "cmap = [\"#F8766D\",\"#7CAE00\",\"#C77CFF\",\"#00BFC4\"]\n",
    "venn(dict_set, cmap=cmap, fontsize=16, legend_loc=None)\n",
    "plt.savefig('../plots/venn_combined_modalities_90.svg')"
   ]
  },
  {
   "cell_type": "code",
   "execution_count": null,
   "id": "68fae127",
   "metadata": {},
   "outputs": [],
   "source": [
    "# Generate Venn diagram for combined modalities and AUC 0.7\n",
    "df_dataset = pd.read_csv('../predictions/scaffold_median_AUC.csv')\n",
    "csge = df_dataset[(df_dataset['descriptor'] == 'late_fusion_cs_ge')][(df_dataset['auc_70'] == True)]\n",
    "gemo = df_dataset[(df_dataset['descriptor'] == 'late_fusion_ge_mobc')][(df_dataset['auc_70'] == True)]\n",
    "csmo = df_dataset[(df_dataset['descriptor'] == 'late_fusion_cs_mobc')][(df_dataset['auc_70'] == True)]\n",
    "csgemo = df_dataset[(df_dataset['descriptor'] == 'late_fusion_cs_ge_mobc')][(df_dataset['auc_70'] == True)] \n",
    "\n",
    "plt.figure(figsize=(4,4))\n",
    "set1 = set(csge['assay_id'])\n",
    "set2 = set(gemo['assay_id'])\n",
    "set3 = set(csmo['assay_id'])\n",
    "set4 = set(csgemo['assay_id'])\n",
    "\n",
    "dict_set = {'csge': set1, 'gemo':set2, 'csmo':set3, 'csgemo':set4}\n",
    "cmaps = [\"cool\", list(\"rgb\"), \"plasma\", \"viridis\", \"Set1\"]\n",
    "plt.figure(figsize=(9,9))\n",
    "cmap = [\"#F8766D\",\"#7CAE00\",\"#C77CFF\",\"#00BFC4\"]\n",
    "venn(dict_set, cmap=cmap, fontsize=16, legend_loc=None)\n",
    "plt.savefig('../plots/venn_combined_modalities_70.svg')"
   ]
  },
  {
   "cell_type": "code",
   "execution_count": null,
   "id": "978f376a",
   "metadata": {},
   "outputs": [],
   "source": [
    "# Generate Venn diagram for single modalities and AUC 0.7\n",
    "df_dataset = pd.read_csv('../predictions/scaffold_median_AUC.csv')\n",
    "cs = df_dataset[(df_dataset['descriptor'] == 'cp_es_op')][(df_dataset['auc_70'] == True)]\n",
    "ge = df_dataset[(df_dataset['descriptor'] == 'ge_es_op')][(df_dataset['auc_70'] == True)]\n",
    "mo = df_dataset[(df_dataset['descriptor'] == 'mobc_es_op')][(df_dataset['auc_70'] == True)] \n",
    "\n",
    "plt.figure(figsize=(4,4))\n",
    "set1 = set(cs['assay_id'])\n",
    "set2 = set(ge['assay_id'])\n",
    "set3 = set(mo['assay_id'])\n",
    "\n",
    "\n",
    "# Adjust circle sizes in Illustrator\n",
    "plt.figure(figsize=(9,9))\n",
    "dict_set = {'CS': set1, 'GE':set2, 'MO-BC':set3}\n",
    "cmaps = [\"cool\", list(\"rgb\"), \"plasma\", \"viridis\", \"Set1\"]\n",
    "plt.figure(figsize=(9,9))\n",
    "cmap = [\"#F1C232\",\"#6FA8DC\",\"#93C47C\", \"#d5a6bd\"]\n",
    "venn(dict_set, cmap=cmap, fontsize=16, legend_loc=None)\n",
    "plt.savefig(\"../plots/venn_single_modalities_70.svg\")"
   ]
  }
 ],
 "metadata": {
  "kernelspec": {
   "display_name": "Python 3.9.13 ('base')",
   "language": "python",
   "name": "python3"
  },
  "language_info": {
   "codemirror_mode": {
    "name": "ipython",
    "version": 3
   },
   "file_extension": ".py",
   "mimetype": "text/x-python",
   "name": "python",
   "nbconvert_exporter": "python",
   "pygments_lexer": "ipython3",
   "version": "3.9.13"
  },
  "vscode": {
   "interpreter": {
    "hash": "edf2f84eb977a12e0978a65dba77ae3558c42a07fd1fc4f86ffa70d5ed4d20be"
   }
  }
 },
 "nbformat": 4,
 "nbformat_minor": 5
}
