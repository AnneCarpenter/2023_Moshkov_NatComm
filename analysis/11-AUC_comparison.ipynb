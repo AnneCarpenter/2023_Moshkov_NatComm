{
 "cells": [
  {
   "cell_type": "code",
   "execution_count": null,
   "metadata": {},
   "outputs": [],
   "source": [
    "import pandas as pd\n",
    "import numpy as np\n",
    "import matplotlib.pyplot as plt\n",
    "import seaborn as sb"
   ]
  },
  {
   "cell_type": "code",
   "execution_count": null,
   "metadata": {},
   "outputs": [],
   "source": [
    "df = pd.read_csv(\"../predictions/scaffold_median_python.csv\")"
   ]
  },
  {
   "cell_type": "code",
   "execution_count": null,
   "metadata": {},
   "outputs": [],
   "source": [
    "CS = df[df[\"descriptor\"] == \"cp_es_op\"]\n",
    "MO = df[df[\"descriptor\"] == \"mobc_es_op\"]\n",
    "GE = df[df[\"descriptor\"] == \"ge_es_op\"]"
   ]
  },
  {
   "cell_type": "code",
   "execution_count": null,
   "metadata": {},
   "outputs": [],
   "source": [
    "# x=CS , y=MO\n",
    "plt.figure(figsize=(6,6))\n",
    "data = pd.merge(CS, MO, on=\"assay_id\")[[\"assay_id\", \"auc_x\", \"auc_y\"]]\n",
    "data[\"best\"] = data[\"auc_x\"] > data[\"auc_y\"]\n",
    "print(\"x > y:\", np.sum(data[\"best\"]), \"x < y:\", data.shape[0] - np.sum(data[\"best\"]))\n",
    "g = sb.jointplot(data=data, x=\"auc_x\", y=\"auc_y\", kind=\"scatter\", hue=\"best\", \n",
    "                 legend=False, xlim=(-.05,1.1), ylim=(-0.05,1.1), palette=[\"#599b3e\", \"#ecb727\"])"
   ]
  },
  {
   "cell_type": "code",
   "execution_count": null,
   "metadata": {},
   "outputs": [],
   "source": [
    "# x=CS , y=GE\n",
    "plt.figure(figsize=(6,6))\n",
    "data = pd.merge(CS, GE, on=\"assay_id\")[[\"assay_id\", \"auc_x\", \"auc_y\"]]\n",
    "data[\"best\"] = data[\"auc_x\"] > data[\"auc_y\"]\n",
    "print(\"x > y:\", np.sum(data[\"best\"]), \"x < y:\", data.shape[0] - np.sum(data[\"best\"]))\n",
    "g = sb.jointplot(data=data, x=\"auc_x\", y=\"auc_y\", kind=\"scatter\", hue=\"best\", \n",
    "                 legend=False, xlim=(-.05,1.1), ylim=(-0.05,1.1), palette=[\"#3b70e2\", \"#ecb727\"])"
   ]
  },
  {
   "cell_type": "code",
   "execution_count": null,
   "metadata": {},
   "outputs": [],
   "source": [
    "# x=MO , y=GE\n",
    "plt.figure(figsize=(6,6))\n",
    "data = pd.merge(MO, GE, on=\"assay_id\")[[\"assay_id\", \"auc_x\", \"auc_y\"]]\n",
    "data[\"best\"] = data[\"auc_x\"] > data[\"auc_y\"]\n",
    "print(\"x > y:\", np.sum(data[\"best\"]), \"x < y:\", data.shape[0] - np.sum(data[\"best\"]))\n",
    "g = sb.jointplot(data=data, x=\"auc_x\", y=\"auc_y\", kind=\"scatter\", hue=\"best\", \n",
    "                 legend=False, xlim=(-.05,1.1), ylim=(-0.05,1.1), palette=[\"#3b70e2\", \"#599b3e\"])"
   ]
  },
  {
   "cell_type": "code",
   "execution_count": null,
   "metadata": {},
   "outputs": [],
   "source": [
    "counts = []\n",
    "for t in np.arange(0.1, 1., 0.01):\n",
    "    counts.append({\"Threshold\":t, \"Count\":np.sum(CS[\"auc\"] > t), \"Type\":\"CS\"})\n",
    "    counts.append({\"Threshold\":t, \"Count\":np.sum(GE[\"auc\"] > t), \"Type\":\"GE\"})\n",
    "    counts.append({\"Threshold\":t, \"Count\":np.sum(MO[\"auc\"] > t), \"Type\":\"MO\"})"
   ]
  },
  {
   "cell_type": "code",
   "execution_count": null,
   "metadata": {},
   "outputs": [],
   "source": [
    "plt.gcf().set_size_inches(12, 8)    \n",
    "counts = pd.DataFrame(data=counts)\n",
    "sb.lineplot(data=counts, x=\"Threshold\", y=\"Count\", hue=\"Type\", \n",
    "            palette=[\"#ecb727\", \"#3b70e2\", \"#599b3e\"], linewidth=2)\n",
    "plt.plot([0.9,0.9],[0.0,372], \"--b\") # , palette=[\"#ecb727\", \"#599b3e\", \"#3b70e2\"]\n",
    "plt.plot([0.7,0.7],[0.0,372], \"--g\")\n",
    "plt.plot([0.5,0.5],[0.0,372], \"--r\")\n",
    "plt.savefig('../plots/auc.svg')"
   ]
  }
 ],
 "metadata": {
  "kernelspec": {
   "display_name": "Python 3.9.13 ('base')",
   "language": "python",
   "name": "python3"
  },
  "language_info": {
   "codemirror_mode": {
    "name": "ipython",
    "version": 3
   },
   "file_extension": ".py",
   "mimetype": "text/x-python",
   "name": "python",
   "nbconvert_exporter": "python",
   "pygments_lexer": "ipython3",
   "version": "3.9.13"
  },
  "vscode": {
   "interpreter": {
    "hash": "edf2f84eb977a12e0978a65dba77ae3558c42a07fd1fc4f86ffa70d5ed4d20be"
   }
  }
 },
 "nbformat": 4,
 "nbformat_minor": 4
}
