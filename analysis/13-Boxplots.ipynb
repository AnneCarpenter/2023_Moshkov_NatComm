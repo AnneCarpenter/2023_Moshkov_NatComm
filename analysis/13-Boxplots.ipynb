{
 "cells": [
  {
   "cell_type": "code",
   "execution_count": null,
   "id": "6711f524",
   "metadata": {},
   "outputs": [],
   "source": [
    "import numpy as np\n",
    "import pandas as pd\n",
    "import seaborn as sb\n",
    "import matplotlib.pyplot as plt"
   ]
  },
  {
   "cell_type": "code",
   "execution_count": null,
   "id": "57020e51",
   "metadata": {},
   "outputs": [],
   "source": [
    "ef_file_0 = '../predictions/chemical_jan22_cv0/2021_03_evaluation_all_data_python_EF.csv'\n",
    "ef_file_1 = '../predictions/chemical_jan22_cv1/2021_03_evaluation_all_data_python_EF.csv'\n",
    "ef_file_2 = '../predictions/chemical_jan22_cv2/2021_03_evaluation_all_data_python_EF.csv'\n",
    "ef_file_3 = '../predictions/chemical_jan22_cv3/2021_03_evaluation_all_data_python_EF.csv'\n",
    "ef_file_4 = '../predictions/chemical_jan22_cv4/2021_03_evaluation_all_data_python_EF.csv'"
   ]
  },
  {
   "cell_type": "code",
   "execution_count": null,
   "id": "7d18a3d8",
   "metadata": {},
   "outputs": [],
   "source": [
    "ef_df_0 = pd.read_csv(ef_file_0)\n",
    "ef_df_0['cv'] = '1'\n",
    "ef_df_1 = pd.read_csv(ef_file_1).set_index('assay_id')\n",
    "ef_df_1['cv'] = '2'\n",
    "ef_df_2 = pd.read_csv(ef_file_2).set_index('assay_id')\n",
    "ef_df_2['cv'] = '3'\n",
    "ef_df_3 = pd.read_csv(ef_file_3).set_index('assay_id')\n",
    "ef_df_3['cv'] = '4'\n",
    "ef_df_4 = pd.read_csv(ef_file_4).set_index('assay_id')\n",
    "ef_df_4['cv'] = '5'"
   ]
  },
  {
   "cell_type": "code",
   "execution_count": null,
   "id": "9f8e642a",
   "metadata": {},
   "outputs": [],
   "source": [
    "ef_df = pd.concat((ef_df_0,ef_df_1,ef_df_2,ef_df_3,ef_df_4), axis = 0)"
   ]
  },
  {
   "cell_type": "code",
   "execution_count": null,
   "id": "aacc5af5",
   "metadata": {},
   "outputs": [],
   "source": [
    "modalities = ['mobc_es_op', 'cp_es_op', 'ge_es_op', 'late_fusion_cs_ge', 'late_fusion_cs_ge_mobc', 'late_fusion_cs_mobc', 'late_fusion_ge_mobc']\n",
    "modalities_dict = {'mobc_es_op':'MO', 'cp_es_op':'CS', 'ge_es_op':'GE', 'late_fusion_cs_ge':'CS+GE', 'late_fusion_cs_ge_mobc':'CS+GE+MO', 'late_fusion_cs_mobc':'CS+MO', 'late_fusion_ge_mobc':'GE+MO'}\n",
    "colors_dict = {'MO':'#6aa84f', 'CS':'#f1c232', 'GE':'#4a86e8', 'CS+GE':'#f8766d', 'CS+GE+MO':'#7cae00', 'CS+MO':'#00bfc4', 'GE+MO':'#c77cff'}\n"
   ]
  },
  {
   "cell_type": "code",
   "execution_count": null,
   "id": "910aa9a5",
   "metadata": {},
   "outputs": [],
   "source": [
    "ef_df = ef_df[ef_df['descriptor'].isin(modalities)]\n",
    "ef_df['descriptor'].replace(modalities_dict, inplace=True)"
   ]
  },
  {
   "cell_type": "code",
   "execution_count": null,
   "id": "92130d51",
   "metadata": {},
   "outputs": [],
   "source": [
    "sb.set(rc={'figure.figsize':(11.7,8.27)})\n",
    "sb.set_style(\"whitegrid\")\n",
    "sb.boxplot(x = 'descriptor', y=\"EF10%\", data=ef_df[ef_df.cv == '5'], palette = colors_dict)\n",
    "ax = sb.swarmplot(x='descriptor', y=\"EF10%\", data=ef_df[ef_df.cv == '5'], palette = colors_dict)\n",
    "plt.show()"
   ]
  },
  {
   "cell_type": "code",
   "execution_count": null,
   "id": "46bd35a9",
   "metadata": {},
   "outputs": [],
   "source": [
    "ef_file_median = '../../puma_project_dev/predictions/scaffold_median_python_EF.csv'\n",
    "ef_file_median_df = pd.read_csv(ef_file_median)\n",
    "ef_file_median_df = ef_file_median_df[ef_file_median_df['descriptor'].isin(modalities)]\n",
    "ef_file_median_df['descriptor'].replace(modalities_dict, inplace=True)"
   ]
  },
  {
   "cell_type": "code",
   "execution_count": null,
   "id": "2295f2c0",
   "metadata": {},
   "outputs": [],
   "source": [
    "sb.set(rc={'figure.figsize':(11.7,8.27)})\n",
    "sb.set_style(\"whitegrid\")\n",
    "sb.boxplot(x = 'descriptor', y=\"EF1%\", data=ef_file_median_df, palette = colors_dict)\n",
    "ax = sb.swarmplot(x='descriptor', y=\"EF1%\", data=ef_file_median_df, palette = colors_dict)\n",
    "plt.show()"
   ]
  },
  {
   "cell_type": "code",
   "execution_count": null,
   "id": "72652e19",
   "metadata": {},
   "outputs": [],
   "source": [
    "auc_file_median = '../predictions/scaffold_median_python_jan22.csv'\n",
    "auc_file_median_df = pd.read_csv(auc_file_median)\n",
    "auc_file_median_df = auc_file_median_df[auc_file_median_df['descriptor'].isin(modalities)]\n",
    "auc_file_median_df['descriptor'].replace(modalities_dict, inplace=True)"
   ]
  },
  {
   "cell_type": "code",
   "execution_count": null,
   "id": "b7684c27",
   "metadata": {},
   "outputs": [],
   "source": [
    "sb.set(rc={'figure.figsize':(11.7,8.27)})\n",
    "sb.set_style(\"whitegrid\")\n",
    "sb.boxplot(x = 'descriptor', y=\"auc\", data=auc_file_median_df[auc_file_median_df.descriptor.isin(['CS', 'GE', 'MO'], palette = colors_dict)\n",
    "ax = sb.swarmplot(x='descriptor', y=\"auc\", data=auc_file_median_df[auc_file_median_df.descriptor.isin(['CS', 'GE', 'MO'])], palette = colors_dict)\n",
    "plt.show()"
   ]
  },
  {
   "cell_type": "code",
   "execution_count": null,
   "id": "2e020dad",
   "metadata": {},
   "outputs": [],
   "source": [
    "sb.set(rc={'figure.figsize':(11.7,8.27)})\n",
    "sb.set_style(\"whitegrid\")\n",
    "sb.set_theme(style=\"ticks\")\n",
    "sb.boxplot(x = 'auc', y=\"descriptor\", data=auc_file_median_df[auc_file_median_df.descriptor.isin(['CS+GE', 'GE+MO', 'CS+MO', 'CS+GE+MO'])], palette = colors_dict, order=['CS+GE', 'GE+MO', 'CS+MO', 'CS+GE+MO'], width = 0.2, showfliers = False)\n",
    "ax = sb.stripplot(x='auc', y=\"descriptor\", data=auc_file_median_df[auc_file_median_df.descriptor.isin(['CS+GE', 'GE+MO', 'CS+MO', 'CS+GE+MO'])], palette = colors_dict, order = ['CS+GE', 'GE+MO', 'CS+MO', 'CS+GE+MO'],  linewidth=0)\n",
    "ax.set_box_aspect(3/len(ax.patches))\n",
    "ax.xaxis.grid(True)\n",
    "plt.show()"
   ]
  },
  {
   "cell_type": "code",
   "execution_count": null,
   "id": "05f02e65",
   "metadata": {},
   "outputs": [],
   "source": []
  }
 ],
 "metadata": {
  "kernelspec": {
   "display_name": "Python 3 (ipykernel)",
   "language": "python",
   "name": "python3"
  },
  "language_info": {
   "codemirror_mode": {
    "name": "ipython",
    "version": 3
   },
   "file_extension": ".py",
   "mimetype": "text/x-python",
   "name": "python",
   "nbconvert_exporter": "python",
   "pygments_lexer": "ipython3",
   "version": "3.7.10"
  }
 },
 "nbformat": 4,
 "nbformat_minor": 5
}
