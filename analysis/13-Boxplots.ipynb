{
 "cells": [
  {
   "cell_type": "code",
   "execution_count": null,
   "id": "6711f524",
   "metadata": {},
   "outputs": [],
   "source": [
    "import pandas as pd\n",
    "import seaborn as sb\n",
    "import matplotlib.pyplot as plt"
   ]
  },
  {
   "cell_type": "code",
   "execution_count": null,
   "id": "aacc5af5",
   "metadata": {},
   "outputs": [],
   "source": [
    "modalities = ['mobc_es_op', 'cp_es_op', 'ge_es_op', 'late_fusion_cs_ge', 'late_fusion_cs_ge_mobc', 'late_fusion_cs_mobc', 'late_fusion_ge_mobc']\n",
    "modalities_dict = {'mobc_es_op':'MO', 'cp_es_op':'CS', 'ge_es_op':'GE', 'late_fusion_cs_ge':'CS+GE', 'late_fusion_cs_ge_mobc':'CS+GE+MO', 'late_fusion_cs_mobc':'CS+MO', 'late_fusion_ge_mobc':'GE+MO'}\n",
    "colors_dict = {'MO':'#6aa84f', 'CS':'#f1c232', 'GE':'#4a86e8', 'CS+GE':'#f8766d', 'CS+GE+MO':'#00BFC4', 'CS+MO':'#C77CFF', 'GE+MO':'#7cae00'}"
   ]
  },
  {
   "cell_type": "code",
   "execution_count": null,
   "id": "72652e19",
   "metadata": {},
   "outputs": [],
   "source": [
    "auc_file_median = '../predictions/scaffold_median_python.csv'\n",
    "auc_file_median_df = pd.read_csv(auc_file_median)\n",
    "auc_file_median_df = auc_file_median_df[auc_file_median_df['descriptor'].isin(modalities)]\n",
    "auc_file_median_df['descriptor'].replace(modalities_dict, inplace=True)"
   ]
  },
  {
   "cell_type": "code",
   "execution_count": null,
   "id": "b7684c27",
   "metadata": {},
   "outputs": [],
   "source": [
    "sb.set(rc={'figure.figsize':(11.7,8.27)})\n",
    "sb.set_style(\"whitegrid\")\n",
    "sb.boxplot(x = 'descriptor', y=\"auc\", data=auc_file_median_df[auc_file_median_df.descriptor.isin(['CS', 'GE', 'MO'])], palette = colors_dict)\n",
    "ax = sb.swarmplot(x='descriptor', y=\"auc\", data=auc_file_median_df[auc_file_median_df.descriptor.isin(['CS', 'GE', 'MO'])], palette = colors_dict)\n",
    "plt.savefig('../plots/single_modalities_box.svg')"
   ]
  },
  {
   "cell_type": "code",
   "execution_count": null,
   "id": "2e020dad",
   "metadata": {},
   "outputs": [],
   "source": [
    "sb.set(rc={'figure.figsize':(11.7,8.27)})\n",
    "sb.set_style(\"whitegrid\")\n",
    "sb.set_theme(style=\"ticks\")\n",
    "sb.boxplot(x = 'auc', y=\"descriptor\", data=auc_file_median_df[auc_file_median_df.descriptor.isin(['CS+GE', 'CS+MO', 'GE+MO', 'CS+GE+MO'])], palette = colors_dict, order=['CS+GE', 'CS+MO', 'GE+MO','CS+GE+MO'], width = 0.2, showfliers = False)\n",
    "ax = sb.stripplot(x='auc', y=\"descriptor\", data=auc_file_median_df[auc_file_median_df.descriptor.isin(['CS+GE', 'CS+MO', 'GE+MO', 'CS+GE+MO'])], palette = colors_dict, order = ['CS+GE', 'CS+MO', 'GE+MO', 'CS+GE+MO'],  linewidth=0)\n",
    "ax.set_box_aspect(3/len(ax.patches))\n",
    "ax.xaxis.grid(True)\n",
    "plt.savefig('../plots/late_fusion_box.svg')"
   ]
  }
 ],
 "metadata": {
  "kernelspec": {
   "display_name": "Python 3.9.13 ('base')",
   "language": "python",
   "name": "python3"
  },
  "language_info": {
   "codemirror_mode": {
    "name": "ipython",
    "version": 3
   },
   "file_extension": ".py",
   "mimetype": "text/x-python",
   "name": "python",
   "nbconvert_exporter": "python",
   "pygments_lexer": "ipython3",
   "version": "3.9.13"
  },
  "vscode": {
   "interpreter": {
    "hash": "edf2f84eb977a12e0978a65dba77ae3558c42a07fd1fc4f86ffa70d5ed4d20be"
   }
  }
 },
 "nbformat": 4,
 "nbformat_minor": 5
}
