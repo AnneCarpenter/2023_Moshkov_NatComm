{
 "cells": [
  {
   "cell_type": "code",
   "execution_count": null,
   "metadata": {},
   "outputs": [],
   "source": [
    "import numpy as np\n",
    "import pandas as pd\n",
    "import seaborn as sb\n",
    "import matplotlib.pyplot as plt"
   ]
  },
  {
   "cell_type": "code",
   "execution_count": null,
   "metadata": {},
   "outputs": [],
   "source": [
    "split = 'chemical_may_cv4'\n",
    "train_assay_file = '/home/jupyter-nmoshkov@broadinst-04e9f/PUMA/' + split + '/assay_matrix_discrete_train_scaff.csv'\n",
    "test_assay_file = '/home/jupyter-nmoshkov@broadinst-04e9f/PUMA/' + split + '/assay_matrix_discrete_test_scaff.csv'\n",
    "aucs_file = '/home/jupyter-nmoshkov@broadinst-04e9f/PUMA/' + split + '/2021_03_evaluation_all_data_python.csv'"
   ]
  },
  {
   "cell_type": "code",
   "execution_count": null,
   "metadata": {},
   "outputs": [],
   "source": [
    "train_assay_df = pd.read_csv(train_assay_file)\n",
    "test_assay_df = pd.read_csv(test_assay_file)\n",
    "aucs_df = pd.read_csv(aucs_file).set_index('assay_id')\n",
    "\n",
    "#Filter, leave only certain modalities + late fusion\n",
    "modalities = ['mowh_es_op', 'cp_es_op', 'ge_es_op', 'late_fusion_cs_ge', 'late_fusion_cs_ge_mowh', 'late_fusion_cs_mowh', 'late_fusion_ge_mowh']\n",
    "aucs_df = aucs_df[aucs_df['descriptor'].isin(modalities)]\n",
    "modalities_dict = {'mowh_es_op':'MO', 'cp_es_op':'CS', 'ge_es_op':'GE', 'late_fusion_cs_ge':'CS+GE', 'late_fusion_cs_ge_mowh':'CS+GE+MO', 'late_fusion_cs_mowh':'CS+MO', 'late_fusion_ge_mowh':'GE+MO'}\n",
    "\n",
    "aucs_df['descriptor'].replace(modalities_dict, inplace=True)\n",
    "\n",
    "\n",
    "assays = train_assay_df.columns[1:]"
   ]
  },
  {
   "cell_type": "code",
   "execution_count": null,
   "metadata": {},
   "outputs": [],
   "source": [
    "readouts = {}\n",
    "hits = {}\n",
    "for a in assays:\n",
    "    readouts[a] = np.count_nonzero(~np.isnan(train_assay_df[a].to_numpy()))\n",
    "    hits[a] = np.nansum(train_assay_df[a].to_numpy().astype(np.float))"
   ]
  },
  {
   "cell_type": "code",
   "execution_count": null,
   "metadata": {},
   "outputs": [],
   "source": [
    "readouts_df = pd.Series(readouts, name=\"readouts\").to_frame()\n",
    "hits_df = pd.Series(hits, name=\"hits\").to_frame()"
   ]
  },
  {
   "cell_type": "code",
   "execution_count": null,
   "metadata": {},
   "outputs": [],
   "source": [
    "hits_df"
   ]
  },
  {
   "cell_type": "code",
   "execution_count": null,
   "metadata": {},
   "outputs": [],
   "source": [
    "aucs_df_readouts_hits_df  = pd.merge(aucs_df, readouts_df, left_index=True, right_index=True)\n",
    "aucs_df_readouts_hits_df  = pd.merge(aucs_df_readouts_hits_df, hits_df, left_index=True, right_index=True)"
   ]
  },
  {
   "cell_type": "code",
   "execution_count": null,
   "metadata": {},
   "outputs": [],
   "source": [
    "aucs_df_readouts_hits_df"
   ]
  },
  {
   "cell_type": "code",
   "execution_count": null,
   "metadata": {},
   "outputs": [],
   "source": [
    "colors_dict = {'MO':'#6aa84f', 'CS':'#f1c232', 'GE':'#4a86e8', 'CS+GE':'#f8766d', 'CS+GE+MO':'#7cae00', 'CS+MO':'#00bfc4', 'GE+MO':'#c77cff'}\n",
    "\n",
    "sb.lmplot(x=\"readouts\", y=\"auc\", hue=\"descriptor\", data=aucs_df_readouts_hits_df, height = 9,aspect = 1.5, palette=colors_dict)\n",
    "sb.lmplot(x=\"hits\", y=\"auc\", hue=\"descriptor\", data=aucs_df_readouts_hits_df, height = 9,aspect = 1.5, palette=colors_dict)"
   ]
  },
  {
   "cell_type": "code",
   "execution_count": null,
   "metadata": {},
   "outputs": [],
   "source": [
    "assay_file = '/home/jupyter-nmoshkov@broadinst-04e9f/PUMA/assay_matrix_nopains_nofreq_noemptyassays.csv'\n",
    "median_aucs_file = '/home/jupyter-nmoshkov@broadinst-04e9f/PUMA/scaffold_median_python_fixed.csv'\n",
    "assay_df = pd.read_csv(assay_file)\n",
    "median_aucs_df = pd.read_csv(median_aucs_file).set_index('assay_id')\n",
    "\n",
    "#Filter, leave only certain modalities + late fusion\n",
    "modalities = ['mowh_es_op', 'cp_es_op', 'ge_es_op', 'late_fusion_cs_ge', 'late_fusion_cs_ge_mowh', 'late_fusion_cs_mowh', 'late_fusion_ge_mowh']\n",
    "median_aucs_df = median_aucs_df[median_aucs_df['descriptor'].isin(modalities)]\n",
    "modalities_dict = {'mowh_es_op':'MO', 'cp_es_op':'CS', 'ge_es_op':'GE', 'late_fusion_cs_ge':'CS+GE', 'late_fusion_cs_ge_mowh':'CS+GE+MO', 'late_fusion_cs_mowh':'CS+MO', 'late_fusion_ge_mowh':'GE+MO'}\n",
    "\n",
    "median_aucs_df['descriptor'].replace(modalities_dict, inplace=True)\n",
    "\n",
    "assays = assay_df.columns[1:]\n",
    "\n",
    "readouts = {}\n",
    "hits = {}\n",
    "for a in assays:\n",
    "    readouts[a] = np.count_nonzero(~np.isnan(assay_df[a].to_numpy()))\n",
    "    hits[a] = np.nansum(assay_df[a].to_numpy().astype(np.float))\n",
    "\n",
    "    \n",
    "readouts_df = pd.Series(readouts, name=\"readouts\").to_frame()\n",
    "hits_df = pd.Series(hits, name=\"hits\").to_frame()\n",
    "median_aucs_df_readouts_hits_df  = pd.merge(median_aucs_df, readouts_df, left_index=True, right_index=True)\n",
    "median_aucs_df_readouts_hits_df  = pd.merge(median_aucs_df_readouts_hits_df, hits_df, left_index=True, right_index=True)\n",
    "    \n",
    "colors_dict = {'MO':'#6aa84f', 'CS':'#f1c232', 'GE':'#4a86e8', 'CS+GE':'#f8766d', 'CS+GE+MO':'#7cae00', 'CS+MO':'#00bfc4', 'GE+MO':'#c77cff'}\n",
    "\n",
    "sb.lmplot(x=\"readouts\", y=\"auc\", hue=\"descriptor\", data=median_aucs_df_readouts_hits_df, height = 9,aspect = 1.5, palette=colors_dict)\n",
    "sb.lmplot(x=\"hits\", y=\"auc\", hue=\"descriptor\", data=median_aucs_df_readouts_hits_df, height = 9,aspect = 1.5, palette=colors_dict)"
   ]
  },
  {
   "cell_type": "code",
   "execution_count": null,
   "metadata": {},
   "outputs": [],
   "source": []
  }
 ],
 "metadata": {
  "kernelspec": {
   "display_name": "Python 3",
   "language": "python",
   "name": "python3"
  },
  "language_info": {
   "codemirror_mode": {
    "name": "ipython",
    "version": 3
   },
   "file_extension": ".py",
   "mimetype": "text/x-python",
   "name": "python",
   "nbconvert_exporter": "python",
   "pygments_lexer": "ipython3",
   "version": "3.7.3"
  }
 },
 "nbformat": 4,
 "nbformat_minor": 4
}
