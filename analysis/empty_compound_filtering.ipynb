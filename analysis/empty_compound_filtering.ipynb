{
 "cells": [
  {
   "cell_type": "code",
   "execution_count": 1,
   "metadata": {},
   "outputs": [],
   "source": [
    "import pandas as pd\n",
    "import numpy as np\n",
    "import csv"
   ]
  },
  {
   "cell_type": "code",
   "execution_count": 10,
   "metadata": {},
   "outputs": [
    {
     "data": {
      "text/plain": [
       "(16978, 1747)"
      ]
     },
     "execution_count": 10,
     "metadata": {},
     "output_type": "execute_result"
    }
   ],
   "source": [
    "#Empty compound is already excluded from the batch corrected features\n",
    "\n",
    "broad_ids_df = pd.read_csv('broad_ids.txt', header = None)\n",
    "broad_ids = broad_ids_df.loc[:,0].to_list()\n",
    "\n",
    "with open('aggregated_MOBC_features_norm.npz', \"rb\") as data:\n",
    "    mobc = np.load(data, allow_pickle=True)\n",
    "    mobc_np = mobc['features']"
   ]
  },
  {
   "cell_type": "code",
   "execution_count": null,
   "metadata": {},
   "outputs": [],
   "source": [
    "from tqdm import tqdm\n",
    "new_array = []\n",
    "\n",
    "for i in tqdm(range(len(broad_ids))):\n",
    "    for j in range(len(mobc_np)):\n",
    "        if broad_ids[i] == mobc_np[j,0][:13]:\n",
    "            a = list(mobc_np[j,1:])\n",
    "            new_array.append(a)\n",
    "            "
   ]
  },
  {
   "cell_type": "code",
   "execution_count": null,
   "metadata": {},
   "outputs": [],
   "source": [
    "np.array(new_array).shape"
   ]
  },
  {
   "cell_type": "code",
   "execution_count": null,
   "metadata": {},
   "outputs": [],
   "source": [
    "np.savez('aggregated_MOBC_features_norm_sorted', features=np.array(new_array).astype(np.float64))"
   ]
  },
  {
   "cell_type": "code",
   "execution_count": 2,
   "metadata": {},
   "outputs": [
    {
     "name": "stdout",
     "output_type": "stream",
     "text": [
      "(13582, 2698) (13582, 977) (13582, 1721) (13582, 977) (13582, 200)\n"
     ]
    }
   ],
   "source": [
    "#Empty compound was in the training set, so we open the training files of the original submission\n",
    "gemo_train_file = '/raid/data/PUMA/4publication/data/population_gemo_train.npz'\n",
    "ge_train_file = '/raid/data/PUMA/4publication/data/population_ge_train.npz'\n",
    "mo_train_file = '/raid/data/PUMA/4publication/data/population_mo_train.npz'\n",
    "ge_scaled_train_file = '/raid/data/PUMA/4publication/data/population_ge_scaled_train.npz'\n",
    "assay_train_file = '/raid/data/PUMA/4publication/data/assay_matrix_discrete_train_scaff.csv'\n",
    "cp_train_file = '/raid/data/PUMA/4publication/data/assay_matrix_discrete_filter_train_binary_scaff_cp.npz'\n",
    "assay_train_file_old = '/home/jupyter-nmoshkov@broadinst-04e9f/assay_matrix_discrete_train_old_scaff.csv'\n",
    "\n",
    "with open(gemo_train_file, \"rb\") as data:\n",
    "    gemo_train_np = np.load(data)\n",
    "    gemo_train_np = gemo_train_np['features']\n",
    "\n",
    "with open(ge_train_file, \"rb\") as data:\n",
    "    ge_train_np = np.load(data)\n",
    "    ge_train_np = ge_train_np['features']    \n",
    "\n",
    "with open(mo_train_file, \"rb\") as data:\n",
    "    mo_train_np = np.load(data)\n",
    "    mo_train_np = mo_train_np['features']  \n",
    "\n",
    "with open(ge_scaled_train_file, \"rb\") as data:\n",
    "    ge_scaled_train_np = np.load(data)\n",
    "    ge_scaled_train_np = ge_scaled_train_np['features']  \n",
    "    \n",
    "with open(cp_train_file, \"rb\") as data:\n",
    "    cp_train_np = np.load(data)\n",
    "    cp_train_np = cp_train_np['features']  \n",
    "    \n",
    "    \n",
    "print(gemo_train_np.shape, ge_train_np.shape, mo_train_np.shape, ge_scaled_train_np.shape, cp_train_np.shape  )"
   ]
  },
  {
   "cell_type": "code",
   "execution_count": null,
   "metadata": {},
   "outputs": [],
   "source": [
    "with open(assay_train_file) as f:\n",
    "    with open('/raid/data/PUMA/4publication/data/assay_matrix_discrete_train_scaff_filt.csv', 'w') as ff:\n",
    "        reader = csv.reader(f)\n",
    "        writer = csv.writer(ff)\n",
    "        for row in reader:\n",
    "            if row[0] != '':\n",
    "                writer.writerow(row)\n",
    "                \n",
    "                \n",
    "df = pd.read_csv('/raid/data/PUMA/4publication/data/assay_matrix_discrete_train_scaff_filt.csv')\n",
    "df"
   ]
  },
  {
   "cell_type": "code",
   "execution_count": null,
   "metadata": {},
   "outputs": [],
   "source": [
    "with open(assay_train_file_old) as f:\n",
    "    with open('/raid/data/PUMA/4publication/data/assay_matrix_discrete_train_scaff_old_filt.csv', 'w') as ff:\n",
    "        reader = csv.reader(f)\n",
    "        writer = csv.writer(ff)\n",
    "        for row in reader:\n",
    "            if row[0] != 'BRD-K52850071':\n",
    "                writer.writerow(row)\n",
    "                \n",
    "                \n",
    "df = pd.read_csv('/raid/data/PUMA/4publication/data/assay_matrix_discrete_train_scaff_old_filt.csv')\n",
    "df"
   ]
  },
  {
   "cell_type": "code",
   "execution_count": 6,
   "metadata": {},
   "outputs": [],
   "source": [
    "gemo_train_new = []\n",
    "mo_train_new = []\n",
    "ge_train_new = []\n",
    "cp_train_new = []\n",
    "ge_scaled_train_new = []\n",
    "for i in range(13582):\n",
    "    if i != 8555:\n",
    "        gemo_train_new.append(gemo_train_np[i])\n",
    "        mo_train_new.append(mo_train_np[i])\n",
    "        ge_train_new.append(ge_train_np[i])\n",
    "        cp_train_new.append(cp_train_np[i])\n",
    "        ge_scaled_train_new.append(ge_scaled_train_np[i])\n",
    "    \n",
    "gemo_train_new = np.array(gemo_train_new)\n",
    "mo_train_new = np.array(mo_train_new)\n",
    "ge_train_new = np.array(ge_train_new)\n",
    "cp_train_new = np.array(cp_train_new)\n",
    "ge_scaled_train_new = np.array(ge_scaled_train_new)"
   ]
  },
  {
   "cell_type": "code",
   "execution_count": 7,
   "metadata": {},
   "outputs": [
    {
     "name": "stdout",
     "output_type": "stream",
     "text": [
      "(13581, 2698) (13581, 1721) (13581, 977) (13581, 200) (13581, 977)\n"
     ]
    }
   ],
   "source": [
    "print(gemo_train_new.shape, mo_train_new.shape, ge_train_new.shape, cp_train_new.shape, ge_scaled_train_new.shape )"
   ]
  },
  {
   "cell_type": "code",
   "execution_count": 8,
   "metadata": {},
   "outputs": [],
   "source": [
    "np.savez('gemo_train_filtered_fixed', features=gemo_train_new)\n",
    "np.savez('mo_train_filtered_fixed', features=mo_train_new)\n",
    "np.savez('ge_train_filtered_fixed', features=ge_train_new)\n",
    "np.savez('cp_train_filtered_fixed', features=cp_train_new)\n",
    "np.savez('ge_scaled_train_filtered_fixed', features = ge_scaled_train_new)"
   ]
  },
  {
   "cell_type": "code",
   "execution_count": null,
   "metadata": {},
   "outputs": [],
   "source": []
  }
 ],
 "metadata": {
  "kernelspec": {
   "display_name": "Python 3",
   "language": "python",
   "name": "python3"
  },
  "language_info": {
   "codemirror_mode": {
    "name": "ipython",
    "version": 3
   },
   "file_extension": ".py",
   "mimetype": "text/x-python",
   "name": "python",
   "nbconvert_exporter": "python",
   "pygments_lexer": "ipython3",
   "version": "3.7.3"
  }
 },
 "nbformat": 4,
 "nbformat_minor": 4
}
