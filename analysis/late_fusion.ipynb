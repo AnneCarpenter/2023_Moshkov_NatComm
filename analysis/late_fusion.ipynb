{
 "cells": [
  {
   "cell_type": "code",
   "execution_count": 1,
   "metadata": {},
   "outputs": [],
   "source": [
    "import numpy as np\n",
    "import pandas as pd"
   ]
  },
  {
   "cell_type": "code",
   "execution_count": 2,
   "metadata": {},
   "outputs": [],
   "source": [
    "# loop over splits, change naming if you need\n",
    "\n",
    "for i in range(1,6):\n",
    "    pred_folder = '/home/jupyter-nmoshkov@broadinst-04e9f/PUMA/chemical_may_cv' + str(i) + '/predictions/'\n",
    "    predictions_file_cs = pred_folder + 'predictions_cp_es_op.csv'\n",
    "    predictions_cs = pd.read_csv(predictions_file_cs)\n",
    "    cs_header = predictions_cs.columns \n",
    "    predictions_cs_np = predictions_cs.to_numpy()[:, 1:].astype('float')\n",
    "    cs_compounds = list(predictions_cs.to_numpy()[:, 0])\n",
    "\n",
    "    predictions_file_mowh = pred_folder + 'predictions_mobc_es_op.csv'\n",
    "    predictions_mowh = pd.read_csv(predictions_file_mowh)\n",
    "    mowh_header = predictions_mowh.columns\n",
    "    predictions_mowh_np = predictions_mowh.to_numpy()[:, 1:].astype('float')\n",
    "    mowh_compounds = list(predictions_mowh.to_numpy()[:, 0])\n",
    "\n",
    "    predictions_file_ge = pred_folder + 'predictions_ge_es_op.csv'\n",
    "    predictions_ge = pd.read_csv(predictions_file_ge)\n",
    "    ge_header = predictions_ge.columns\n",
    "    predictions_ge_np = predictions_ge.to_numpy()[:, 1:].astype('float')\n",
    "    ge_compounds = list(predictions_ge.to_numpy()[:, 0])\n",
    "    ge_compounds_ = predictions_ge['smiles']\n",
    "    \n",
    "    \n",
    "    ge_mowh = np.zeros(predictions_ge_np.shape).astype('float')\n",
    "    cs_mowh = np.zeros(predictions_ge_np.shape).astype('float')\n",
    "    cs_ge = np.zeros(predictions_ge_np.shape).astype('float')\n",
    "    cs_ge_mowh = np.zeros(predictions_ge_np.shape).astype('float')\n",
    "    \n",
    "    \n",
    "    \n",
    "    if (list(ge_header) == list(cs_header) and list(cs_header) == list(mowh_header)):\n",
    "        if (predictions_cs_np.shape == predictions_ge_np.shape and predictions_cs_np.shape == predictions_mowh_np.shape):\n",
    "            if mowh_compounds == ge_compounds and ge_compounds == cs_compounds:\n",
    "                for i in range(predictions_ge_np.shape[0]):\n",
    "                    for j in range(predictions_ge_np.shape[1]):\n",
    "                        ge_mowh[i,j] = max(predictions_ge_np[i,j], predictions_mowh_np[i,j])\n",
    "                        cs_mowh[i,j] = max(predictions_cs_np[i,j], predictions_mowh_np[i,j])\n",
    "                        cs_ge[i,j] = max(predictions_cs_np[i,j], predictions_ge_np[i,j])\n",
    "                        cs_ge_mowh[i,j] = max(predictions_cs_np[i,j], predictions_ge_np[i,j], predictions_mowh_np[i,j])\n",
    "        \n",
    "    \n",
    "    \n",
    "    ge_mowh_df = pd.DataFrame(data = ge_mowh)\n",
    "    cs_mowh_df = pd.DataFrame(data = cs_mowh)\n",
    "    cs_ge_df = pd.DataFrame(data = cs_ge) \n",
    "    cs_ge_mowh_df = pd.DataFrame(data = cs_ge_mowh)\n",
    "    \n",
    "    ge_mowh_df = pd.concat([ge_compounds_, ge_mowh_df],axis=1)\n",
    "    cs_mowh_df = pd.concat([ge_compounds_, cs_mowh_df],axis=1)\n",
    "    cs_ge_df = pd.concat([ge_compounds_, cs_ge_df],axis=1)\n",
    "    cs_ge_mowh_df = pd.concat([ge_compounds_, cs_ge_mowh_df],axis=1)\n",
    "    \n",
    "    ge_mowh_df.columns = ge_header\n",
    "    cs_mowh_df.columns = ge_header\n",
    "    cs_ge_df.columns = ge_header\n",
    "    cs_ge_mowh_df.columns = ge_header\n",
    "    \n",
    "    ge_mowh_df.to_csv(pred_folder + 'late_fusion_ge_mowh_fixed.csv', index=False)\n",
    "    cs_mowh_df.to_csv(pred_folder + 'late_fusion_cs_mowh.csv', index=False)\n",
    "    cs_ge_df.to_csv(pred_folder + 'late_fusion_cs_ge_fixed.csv', index=False)\n",
    "    cs_ge_mowh_df.to_csv(pred_folder + 'late_fusion_cs_ge_mowh_fixed.csv', index=False)"
   ]
  },
  {
   "cell_type": "code",
   "execution_count": null,
   "metadata": {},
   "outputs": [],
   "source": []
  }
 ],
 "metadata": {
  "kernelspec": {
   "display_name": "Python 3",
   "language": "python",
   "name": "python3"
  },
  "language_info": {
   "codemirror_mode": {
    "name": "ipython",
    "version": 3
   },
   "file_extension": ".py",
   "mimetype": "text/x-python",
   "name": "python",
   "nbconvert_exporter": "python",
   "pygments_lexer": "ipython3",
   "version": "3.7.3"
  }
 },
 "nbformat": 4,
 "nbformat_minor": 4
}
