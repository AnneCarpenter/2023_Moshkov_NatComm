{
 "cells": [
  {
   "cell_type": "code",
   "execution_count": null,
   "metadata": {},
   "outputs": [],
   "source": [
    "# This is an analysis notebook of pan-assay interference compounds using the dataset of 529 assays x 16798 compounds\n",
    "import numpy as np\n",
    "import pandas as pd\n",
    "import os\n",
    "import matplotlib.pyplot as plt\n",
    "import seaborn as sb"
   ]
  },
  {
   "cell_type": "code",
   "execution_count": null,
   "metadata": {},
   "outputs": [],
   "source": [
    "assay_train_file = '/raid/data/PUMA/4publication/data/assay_matrix_discrete_train_scaff_filt.csv'\n",
    "assay_test_file = '/raid/data/PUMA/4publication/data/assay_matrix_discrete_test_scaff.csv'\n",
    "assay_train_df = pd.read_csv(assay_train_file)\n",
    "assay_test_df = pd.read_csv(assay_test_file)\n",
    "assay_all_df = pd.concat([assay_train_df, assay_test_df])\n",
    "assays = np.array(assay_all_df.columns)[1:]"
   ]
  },
  {
   "cell_type": "code",
   "execution_count": null,
   "metadata": {},
   "outputs": [],
   "source": [
    "# reduntant/independent/empty assay indicies \n",
    "reduntant_assays_index = [ 162, 173, 176, 178, 154, 156, 160, 175, 158, 167, 50, 431, 433, 419, 418, 432, 448, 450, 451, 414, 413, 415, 445, 424, 444, 446, 452, 447, 449, 190, 48, 51, 108, 106, 107, 102, 105, 103, 104, 20, 46, 28, 36, 30, 32, 423, 12, 49, 54, 52, 53, 184, 198, 274, 242, 180, 151, 163, 143, 142, 506, 507, 511, 458, 459, 460, 100, 39, 82, 94, 35, 41, 19, 33, 21, 37, 84, 29, 17, 47, 15, 25, 27, 43, 23, 31, 13, 45, 86, 90, 74, 76, 16, 40, 26, 14, 38, 42, 44, 18, 34, 22, 24, 65, 58, 60, 56, 61, 63, 93, 10, 11, 6, 8, 7, 9, 55, 62, 75, 67, 85, 87, 97, 73, 99, 89, 69, 95, 101, 79, 77, 83, 71, 91, 201, 218, 221, 92, 72, 88, 78, 57, 59]\n",
    "independent_assays_index = [308, 322, 497, 498, 122, 123, 455, 457, 477, 453, 454, 226, 227, 114, 113, 521, 500, 523, 501, 485, 487, 402, 484, 486, 212, 207, 206, 213, 350, 81, 152, 525, 526, 125, 179, 216, 217, 495, 502, 503, 145, 147, 3, 4, 252, 253, 236, 239, 305, 259, 261, 391, 243, 244, 275, 335, 250, 251, 367, 320, 368, 131, 228, 361, 519, 238, 281, 2, 109, 182, 304, 121, 527, 120, 116, 117, 111, 112, 337, 468, 504, 260, 262, 409, 408, 126, 136, 461, 489, 171, 494, 405, 411, 165, 406, 188, 185, 187, 146, 186, 215, 211, 210, 208, 209, 248, 508, 512, 134, 127, 140, 128, 139, 137, 225, 132, 481, 518, 141, 456, 524, 317, 133, 138, 416, 442, 194, 196, 488, 177, 174, 157, 159, 326, 118, 119, 181, 219, 220, 191, 426, 425, 430, 115, 427, 169, 428, 417, 230, 234, 235, 231, 232, 229, 233, 516, 482, 483, 124, 476, 110, 246, 249, 245, 247, 254, 256, 255, 257, 193, 237, 224, 223, 528, 149, 522, 467, 520, 264, 266, 263, 265, 267, 270, 269, 268, 271, 222, 466, 214, 473, 510, 492, 514, 200, 493, 183, 293, 294, 1, 170, 505, 130, 385, 403, 295, 296, 291, 292, 341, 345, 340, 298, 299, 240, 241, 509, 278, 279, 314, 372, 383, 384, 343, 390, 339, 272, 273, 356, 387, 336, 369, 276, 277, 499, 513, 309, 310, 300, 301, 303, 422, 366, 323, 282, 283, 135, 297, 375, 290, 332, 334, 287, 288, 5, 496, 129, 0, 330, 377, 398, 286, 325, 394, 319, 370, 315, 376, 172, 362, 363, 401, 189, 347, 400, 396, 346, 331, 328, 316, 357, 397, 374, 338, 378, 436, 393, 312, 392, 480, 342, 280, 284, 399, 344, 333, 464, 321, 382, 380, 365, 307, 327, 318, 349, 351, 395, 381, 359, 386, 373, 360, 311, 348, 353, 364, 371, 352, 388, 144, 258, 355, 329, 306, 285, 358, 354, 313, 148, 379, 389, 324, 478, 199]\n",
    "empty_assays_index = [517, 515, 491, 490, 479, 475, 474, 472, 471, 470, 469, 465, 463, 462, 443, 441, 440, 439, 438, 437, 435, 434, 429, 421, 420, 412, 410, 407, 404, 302, 289, 205, 204, 203, 202, 197, 195, 192, 168, 166, 164, 161, 155, 153, 150, 98, 96, 80, 70, 68, 64, 66]\n",
    "# those are 4 selected assays out of redundant assays added to analysis  \n",
    "reduntant_assays_index_toadd = [413,100,15,93]\n",
    "\n",
    "final_assay_index = independent_assays_index + reduntant_assays_index_toadd\n",
    "\n",
    "# get assay ids out of indicies\n",
    "reduntant_assays = assays[reduntant_assays_index]\n",
    "independent_assays = assays[independent_assays_index]\n",
    "empty_assays = assays[empty_assays_index]\n",
    "\n",
    "final_assays = list(assays[final_assay_index])\n",
    "\n",
    "# make dataframes\n",
    "reduntant_assays_df = assay_all_df[reduntant_assays]\n",
    "independent_assays_df = assay_all_df[independent_assays]\n",
    "empty_assays_df = assay_all_df[empty_assays]\n",
    "\n",
    "final_assays_df = assay_all_df[ ['smiles'] + final_assays ]\n",
    "\n",
    "print(len(reduntant_assays_index), len(independent_assays_index), len(empty_assays_index), len(final_assay_index))"
   ]
  },
  {
   "cell_type": "code",
   "execution_count": null,
   "metadata": {},
   "outputs": [],
   "source": [
    "all_assay_hits = assay_all_df.sum(axis=1)\n",
    "reduntant_assays_hits = reduntant_assays_df.sum(axis=1)\n",
    "independent_assays_hits = independent_assays_df.sum(axis=1)\n",
    "final_assays_hits = final_assays_df.sum(axis=1)"
   ]
  },
  {
   "cell_type": "code",
   "execution_count": null,
   "metadata": {},
   "outputs": [],
   "source": [
    "final_assays_df"
   ]
  },
  {
   "cell_type": "code",
   "execution_count": null,
   "metadata": {},
   "outputs": [],
   "source": [
    "plt.gcf().set_size_inches(5, 5)\n",
    "sb.histplot(all_assay_hits[all_assay_hits>10],cumulative=True)"
   ]
  },
  {
   "cell_type": "code",
   "execution_count": null,
   "metadata": {},
   "outputs": [],
   "source": [
    "plt.gcf().set_size_inches(5, 5)\n",
    "sb.histplot(reduntant_assays_hits[reduntant_assays_hits>10],cumulative=True)"
   ]
  },
  {
   "cell_type": "code",
   "execution_count": null,
   "metadata": {},
   "outputs": [],
   "source": [
    "plt.gcf().set_size_inches(5, 5)\n",
    "sb.histplot(independent_assays_hits[independent_assays_hits>10])"
   ]
  },
  {
   "cell_type": "code",
   "execution_count": null,
   "metadata": {},
   "outputs": [],
   "source": [
    "# load PAINS indicies\n",
    "pains_filtered_file = '/home/jupyter-nmoshkov@broadinst-04e9f/PUMA/chemprop/compound_analysis.npz'\n",
    "with open(pains_filtered_file, \"rb\") as data:\n",
    "    np_obj = np.load(data) \n",
    "    pains_overall = np_obj['pains_overall']\n"
   ]
  },
  {
   "cell_type": "code",
   "execution_count": null,
   "metadata": {},
   "outputs": [],
   "source": [
    "# remove PAINS\n",
    "final_assays_np = final_assays_df.to_numpy()\n",
    "mask=np.zeros(16978, dtype=bool)\n",
    "mask[pains_overall] = True\n",
    "final_assays_np_nopains = final_assays_np[~mask]\n",
    "final_assays_nopains_df = pd.DataFrame(data = final_assays_np_nopains, columns = final_assays_df.columns )"
   ]
  },
  {
   "cell_type": "code",
   "execution_count": null,
   "metadata": {},
   "outputs": [],
   "source": [
    "plt.gcf().set_size_inches(5, 5)\n",
    "final_assays_nopains_hits = final_assays_nopains_df[final_assays].sum(axis=1)\n",
    "concatenated = pd.concat([pd.DataFrame(data=final_assays_nopains_hits[final_assays_nopains_hits>10], columns = ['PAINS filtered']), pd.DataFrame(data=final_assays_hits[final_assays_hits>10], columns = ['PAINS in the data'])])\n",
    "sb.histplot(concatenated)"
   ]
  },
  {
   "cell_type": "code",
   "execution_count": null,
   "metadata": {},
   "outputs": [],
   "source": [
    "final_assays_nopains_df"
   ]
  },
  {
   "cell_type": "code",
   "execution_count": null,
   "metadata": {},
   "outputs": [],
   "source": [
    "freq_hitters = final_assays_nopains_hits[final_assays_nopains_hits>30].index"
   ]
  },
  {
   "cell_type": "code",
   "execution_count": null,
   "metadata": {},
   "outputs": [],
   "source": [
    "freq_hitters.shape"
   ]
  },
  {
   "cell_type": "code",
   "execution_count": null,
   "metadata": {},
   "outputs": [],
   "source": [
    "final_assays_nopains_np = final_assays_nopains_df.to_numpy()\n",
    "mask=np.zeros(16210, dtype=bool)\n",
    "mask[freq_hitters] = True\n",
    "final_assays_np_nopains_nofreq = final_assays_nopains_np[~mask]\n",
    "final_assays_nopains_nofreq_df = pd.DataFrame(data = final_assays_np_nopains_nofreq, columns = final_assays_nopains_df.columns )"
   ]
  },
  {
   "cell_type": "code",
   "execution_count": null,
   "metadata": {},
   "outputs": [],
   "source": [
    "final_assays_np_nopains_nofreq_true = np.where(final_assays_np_nopains_nofreq[:,1:] == 1,1,0)\n",
    "intersections_relative = np.zeros((338,338))\n",
    "assay_activations = []\n",
    "for i in range(final_assays_np_nopains_nofreq_true.shape[1]):\n",
    "    assay_activations.append(set(np.argwhere(final_assays_np_nopains_nofreq_true[:,i]==1).flatten()))\n",
    "    \n",
    "for i in range(338):\n",
    "    for j in range(338):\n",
    "        if len(assay_activations[i]) != 0 and len(assay_activations[j]) != 0:\n",
    "            intersections_relative[i,j] = len(assay_activations[i].intersection(assay_activations[j])) / len(assay_activations[i].union(assay_activations[j]))\n",
    "            intersections_relative[j,i] = len(assay_activations[i].intersection(assay_activations[j])) / len(assay_activations[i].union(assay_activations[j]))\n",
    "        else:\n",
    "            intersections_relative[i,j] = 0\n",
    "            intersections_relative[j,i] = 0\n",
    "        \n",
    "        \n",
    "plt.gcf().set_size_inches(13, 13)    \n",
    "pl = sb.clustermap(intersections_relative, metric = 'euclidean')"
   ]
  },
  {
   "cell_type": "code",
   "execution_count": null,
   "metadata": {},
   "outputs": [],
   "source": [
    "final_assays_np_nopains_nofreq_true.shape"
   ]
  },
  {
   "cell_type": "code",
   "execution_count": null,
   "metadata": {},
   "outputs": [],
   "source": [
    "intersections_relative_reorder = np.zeros((len(pl.dendrogram_row.reordered_ind),len(pl.dendrogram_row.reordered_ind)))\n",
    "for i in range(len(pl.dendrogram_row.reordered_ind)):\n",
    "    for j in range(len(pl.dendrogram_row.reordered_ind)):\n",
    "        intersections_relative_reorder[j,i] = intersections_relative[pl.dendrogram_row.reordered_ind[j],pl.dendrogram_row.reordered_ind[i]]\n",
    "        intersections_relative_reorder[i,j] = intersections_relative[pl.dendrogram_row.reordered_ind[i],pl.dendrogram_row.reordered_ind[j]]\n",
    "\n",
    "\n",
    "for i in range(len(pl.dendrogram_row.reordered_ind)):\n",
    "    if sum(intersections_relative_reorder[i,:]) == 0:\n",
    "        print(i)"
   ]
  },
  {
   "cell_type": "code",
   "execution_count": null,
   "metadata": {},
   "outputs": [],
   "source": [
    "leftover_assays_index = pl.dendrogram_row.reordered_ind[:314]"
   ]
  },
  {
   "cell_type": "code",
   "execution_count": null,
   "metadata": {},
   "outputs": [],
   "source": [
    "leftover_assays_names = np.array(final_assays_nopains_nofreq_df.columns[1:])[leftover_assays_index]\n",
    "leftover_assays_names = ['smiles'] + list(leftover_assays_names) \n",
    "final_assays_nopains_nofreq_noemptyassays_df = final_assays_nopains_nofreq_df[leftover_assays_names]"
   ]
  },
  {
   "cell_type": "code",
   "execution_count": null,
   "metadata": {},
   "outputs": [],
   "source": [
    "final_assays_nopains_nofreq_noemptyassays_df"
   ]
  },
  {
   "cell_type": "code",
   "execution_count": null,
   "metadata": {},
   "outputs": [],
   "source": [
    "idx = final_assays_nopains_nofreq_noemptyassays_df.index[final_assays_nopains_nofreq_noemptyassays_df.isnull().all(1)]\n",
    "nans = final_assays_nopains_nofreq_noemptyassays_df.loc[idx]"
   ]
  },
  {
   "cell_type": "code",
   "execution_count": null,
   "metadata": {},
   "outputs": [],
   "source": [
    "nans"
   ]
  },
  {
   "cell_type": "code",
   "execution_count": null,
   "metadata": {},
   "outputs": [],
   "source": [
    "not_nans = final_assays_nopains_nofreq_noemptyassays_df.dropna(axis = 0, how = 'all')"
   ]
  },
  {
   "cell_type": "code",
   "execution_count": null,
   "metadata": {},
   "outputs": [],
   "source": [
    "not_nans.shape"
   ]
  },
  {
   "cell_type": "code",
   "execution_count": null,
   "metadata": {},
   "outputs": [],
   "source": [
    "final_assays_nopains_nofreq_noemptyassays_np = final_assays_nopains_nofreq_noemptyassays_df.to_numpy()[:, 1:]\n",
    "final_assays_np_nopains_nofreq_noemptyassays_true = np.where(final_assays_nopains_nofreq_noemptyassays_np == 1,1,0)\n",
    "intersections_relative = np.zeros((314,314))\n",
    "assay_activations = []\n",
    "for i in range(final_assays_np_nopains_nofreq_noemptyassays_true.shape[1]):\n",
    "    assay_activations.append(set(np.argwhere(final_assays_np_nopains_nofreq_noemptyassays_true[:,i]==1).flatten()))\n",
    "    \n",
    "for i in range(314):\n",
    "    for j in range(314):\n",
    "        if len(assay_activations[i]) != 0 and len(assay_activations[j]) != 0:\n",
    "            intersections_relative[i,j] = len(assay_activations[i].intersection(assay_activations[j])) / len(assay_activations[i].union(assay_activations[j]))\n",
    "            intersections_relative[j,i] = len(assay_activations[i].intersection(assay_activations[j])) / len(assay_activations[i].union(assay_activations[j]))\n",
    "        else:\n",
    "            intersections_relative[i,j] = 0\n",
    "            intersections_relative[j,i] = 0\n",
    "        \n",
    "        \n",
    "plt.gcf().set_size_inches(13, 13)    \n",
    "pl = sb.clustermap(intersections_relative, metric = 'euclidean')"
   ]
  },
  {
   "cell_type": "code",
   "execution_count": null,
   "metadata": {},
   "outputs": [],
   "source": [
    "final_assays_nopains_nofreq_noemptyassays_df"
   ]
  },
  {
   "cell_type": "code",
   "execution_count": null,
   "metadata": {},
   "outputs": [],
   "source": [
    "#So now we need to save the header and indicies of the compounds from the original dataset to filter afterwards\n",
    "compounds_all = list(assay_all_df.to_numpy()[:,0])\n",
    "compounds_final = list(final_assays_nopains_nofreq_noemptyassays_df.to_numpy()[:,0])"
   ]
  },
  {
   "cell_type": "code",
   "execution_count": null,
   "metadata": {},
   "outputs": [],
   "source": [
    "compounds_final_indicies_from_16978 = [compounds_all.index(i) for i in compounds_final]"
   ]
  },
  {
   "cell_type": "code",
   "execution_count": null,
   "metadata": {},
   "outputs": [],
   "source": [
    "len(compounds_final_indicies_from_16978)"
   ]
  },
  {
   "cell_type": "code",
   "execution_count": null,
   "metadata": {},
   "outputs": [],
   "source": [
    "assays_final_data = list(final_assays_nopains_nofreq_noemptyassays_df.columns)[1:]\n",
    "assays_final_data"
   ]
  },
  {
   "cell_type": "code",
   "execution_count": null,
   "metadata": {},
   "outputs": [],
   "source": [
    "np.savez('final_compounds_and_assays.npz', compounds_final_indicies_from_16978 = compounds_final_indicies_from_16978, assays_final = assays_final_data )"
   ]
  },
  {
   "cell_type": "code",
   "execution_count": null,
   "metadata": {},
   "outputs": [],
   "source": [
    "final_assays_nopains_nofreq_noemptyassays_df.to_csv('assay_matrix_nopains_nofreq_noemptyassays.csv', index=False)"
   ]
  },
  {
   "cell_type": "code",
   "execution_count": null,
   "metadata": {},
   "outputs": [],
   "source": [
    "for i in range(final_assays_nopains_nofreq_noemptyassays_np.shape[0]):\n",
    "    flag = False\n",
    "    for j in range(final_assays_nopains_nofreq_noemptyassays_np.shape[1]):\n",
    "        if final_assays_nopains_nofreq_noemptyassays_np[i,j] is not np.NaN:\n",
    "            flag = True\n",
    "            continue\n",
    "    if flag is False:\n",
    "        print(i)"
   ]
  }
 ],
 "metadata": {
  "kernelspec": {
   "display_name": "Python 3",
   "language": "python",
   "name": "python3"
  },
  "language_info": {
   "codemirror_mode": {
    "name": "ipython",
    "version": 3
   },
   "file_extension": ".py",
   "mimetype": "text/x-python",
   "name": "python",
   "nbconvert_exporter": "python",
   "pygments_lexer": "ipython3",
   "version": "3.7.3"
  }
 },
 "nbformat": 4,
 "nbformat_minor": 4
}
