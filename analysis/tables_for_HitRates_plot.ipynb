{
 "cells": [
  {
   "cell_type": "code",
   "execution_count": null,
   "metadata": {},
   "outputs": [],
   "source": [
    "import numpy as np\n",
    "import pandas as pd\n",
    "import seaborn as sb\n",
    "import matplotlib.pyplot as plt"
   ]
  },
  {
   "cell_type": "code",
   "execution_count": null,
   "metadata": {},
   "outputs": [],
   "source": [
    "split = 'chemical_jan22_cv4'\n",
    "train_assay_file = '../predictions/' + split + '/assay_matrix_discrete_train_scaff.csv'\n",
    "test_assay_file = '../predictions/' + split + '/assay_matrix_discrete_test_scaff.csv'\n",
    "aucs_file = '../predictions/' + split + '/2022_01_evaluation_all_data_python.csv'\n",
    "\n",
    "\n",
    "train_assay_df = pd.read_csv(train_assay_file)\n",
    "test_assay_df = pd.read_csv(test_assay_file)\n",
    "aucs_df = pd.read_csv(aucs_file).set_index('assay_id')\n",
    "modalities = ['mobc_es_op', 'cp_es_op', 'ge_es_op', 'late_fusion_cs_ge', 'late_fusion_cs_ge_mobc', 'late_fusion_cs_mobc', 'late_fusion_ge_mobc']\n",
    "aucs_df = aucs_df[aucs_df['descriptor'].isin(modalities)]\n",
    "modalities_dict = {'mobc_es_op':'MO', 'cp_es_op':'CS', 'ge_es_op':'GE', 'late_fusion_cs_ge':'CS+GE', 'late_fusion_cs_ge_mobc':'CS+GE+MO', 'late_fusion_cs_mobc':'CS+MO', 'late_fusion_ge_mobc':'GE+MO'}\n",
    "aucs_df['descriptor'].replace(modalities_dict, inplace=True)\n",
    "assays = train_assay_df.columns[1:]"
   ]
  },
  {
   "cell_type": "code",
   "execution_count": null,
   "metadata": {},
   "outputs": [],
   "source": [
    "readouts = {}\n",
    "readouts_compounds = {}\n",
    "hits = {}\n",
    "hit_rate = {}\n",
    "hits_compounds = {}\n",
    "for a in assays:\n",
    "    readouts[a] = np.count_nonzero(~np.isnan(test_assay_df[a].to_numpy()))\n",
    "    readouts_compounds[a] = set(test_assay_df[test_assay_df[a].notna()]['smiles'])\n",
    "    hits[a] = int(np.nansum(test_assay_df[a].to_numpy()))\n",
    "    hits_compounds[a] = set(test_assay_df[test_assay_df[a] > 0]['smiles'])\n",
    "    if readouts[a] != 0:\n",
    "        hit_rate[a] = hits[a] / readouts[a]\n",
    "    else:\n",
    "        hit_rate[a] = 'NA'\n",
    "\n",
    "readouts_df = pd.Series(readouts, name=\"readouts\").to_frame()\n",
    "hits_df = pd.Series(hits, name=\"hits\").to_frame()\n",
    "hit_rate_df = pd.Series(hit_rate, name=\"hit_rate\").to_frame()"
   ]
  },
  {
   "cell_type": "code",
   "execution_count": null,
   "metadata": {},
   "outputs": [],
   "source": [
    "aucs_df_readouts_hits_df  = pd.merge(aucs_df, readouts_df, left_index=True, right_index=True)\n",
    "aucs_df_readouts_hits_df  = pd.merge(aucs_df_readouts_hits_df, hits_df, left_index=True, right_index=True)\n",
    "aucs_df_readouts_hits_df  = pd.merge(aucs_df_readouts_hits_df, hit_rate_df, left_index=True, right_index=True)\n",
    "aucs_df_readouts_hits_df.index.name = 'assay_id'\n",
    "aucs_df_readouts_hits_df"
   ]
  },
  {
   "cell_type": "code",
   "execution_count": null,
   "metadata": {},
   "outputs": [],
   "source": [
    "top_hit_rate_dict = {'CS':{}, 'GE': {}, 'MO':{}, 'CS+GE':{}, 'GE+MO':{}, 'CS+MO':{}, 'CS+GE+MO': {} }\n",
    "list_dataframe = []\n",
    "# ~3000 compounds / rank / rank only readouts / remove others \n",
    "# hit rate normalized / total number of hits (top number of hits)\n",
    "predictions_cs_file = '../predictions/' + split + '/output/predictions/predictions_cp_es_op.csv'\n",
    "predictions_cs_df = pd.read_csv(predictions_cs_file)\n",
    "for a in assays:\n",
    "    if hits[a] != 0:\n",
    "        cut = predictions_cs_df[predictions_cs_df['smiles'].isin(readouts_compounds[a])]\n",
    "        cut = cut.sort_values(by=a, ascending=False, na_position='last').head(hits[a])[['smiles',a]]\n",
    "        hits_top1 = set(cut['smiles'])\n",
    "        top_hit_rate_dict['CS'][a] = len(hits_compounds[a].intersection(hits_top1)) / hits[a]\n",
    "        list_dataframe.append([a,'CS', top_hit_rate_dict['CS'][a]])\n",
    "    else:\n",
    "        top_hit_rate_dict['CS'][a] = 'NA'\n",
    "        list_dataframe.append([a,'CS','NA'])\n",
    "\n",
    "        \n",
    "predictions_mo_file = '../predictions/' + split + '/output/predictions/predictions_mobc_es_op.csv'\n",
    "predictions_mo_df = pd.read_csv(predictions_cs_file)\n",
    "for a in assays:\n",
    "    if hits[a] != 0:\n",
    "        cut = predictions_mo_df[predictions_mo_df['smiles'].isin(readouts_compounds[a])]\n",
    "        cut = cut.sort_values(by=a, ascending=False, na_position='last').head(hits[a])[['smiles',a]]\n",
    "        hits_top1 = set(cut['smiles'])\n",
    "        top_hit_rate_dict['MO'][a] = len(hits_compounds[a].intersection(hits_top1)) / hits[a]\n",
    "        list_dataframe.append([a,'MO', top_hit_rate_dict['MO'][a]])\n",
    "    else:\n",
    "        top_hit_rate_dict['MO'][a] = 'NA'\n",
    "        list_dataframe.append([a,'MO','NA'])\n",
    "        \n",
    "predictions_ge_file = '../predictions/' + split + '/output/predictions/predictions_ge_es_op.csv'\n",
    "predictions_ge_df = pd.read_csv(predictions_cs_file)\n",
    "for a in assays:\n",
    "    if hits[a] != 0:\n",
    "        cut = predictions_ge_df[predictions_ge_df['smiles'].isin(readouts_compounds[a])]\n",
    "        cut = cut.sort_values(by=a, ascending=False, na_position='last').head(hits[a])[['smiles',a]]\n",
    "        hits_top1 = set(cut['smiles'])\n",
    "        top_hit_rate_dict['GE'][a] = len(hits_compounds[a].intersection(hits_top1)) / hits[a]\n",
    "        list_dataframe.append([a,'GE', top_hit_rate_dict['GE'][a]])\n",
    "    else:\n",
    "        top_hit_rate_dict['GE'][a] = 'NA'\n",
    "        list_dataframe.append([a,'GE','NA'])\n",
    "        \n",
    "        \n",
    "predictions_gemo_file = '../predictions/' + split + '/output/predictions/late_fusion_ge_mobc.csv'\n",
    "predictions_gemo_df = pd.read_csv(predictions_cs_file)\n",
    "for a in assays:\n",
    "    if hits[a] != 0:\n",
    "        cut = predictions_gemo_df[predictions_gemo_df['smiles'].isin(readouts_compounds[a])]\n",
    "        cut = cut.sort_values(by=a, ascending=False, na_position='last').head(hits[a])[['smiles',a]]\n",
    "        hits_top1 = set(cut['smiles'])\n",
    "        top_hit_rate_dict['GE+MO'][a] = len(hits_compounds[a].intersection(hits_top1)) / hits[a]\n",
    "        list_dataframe.append([a,'GE+MO', top_hit_rate_dict['GE+MO'][a]])\n",
    "    else:\n",
    "        top_hit_rate_dict['GE+MO'][a] = 'NA'\n",
    "        list_dataframe.append([a,'GE+MO','NA'])\n",
    "        \n",
    "        \n",
    "predictions_csmo_file = '../predictions/' + split + '/output/predictions/late_fusion_cs_mobc.csv'\n",
    "predictions_csmo_df = pd.read_csv(predictions_cs_file)\n",
    "for a in assays:\n",
    "    if hits[a] != 0:\n",
    "        cut = predictions_csmo_df[predictions_csmo_df['smiles'].isin(readouts_compounds[a])]\n",
    "        cut = cut.sort_values(by=a, ascending=False, na_position='last').head(hits[a])[['smiles',a]]\n",
    "        hits_top1 = set(cut['smiles'])\n",
    "        top_hit_rate_dict['CS+MO'][a] = len(hits_compounds[a].intersection(hits_top1)) / hits[a]\n",
    "        list_dataframe.append([a,'CS+MO', top_hit_rate_dict['CS+MO'][a]])\n",
    "    else:\n",
    "        top_hit_rate_dict['CS+MO'][a] = 'NA'\n",
    "        list_dataframe.append([a,'CS+MO','NA'])\n",
    "        \n",
    "\n",
    "predictions_csge_file = '../predictions/' + split + '/output/predictions/late_fusion_cs_ge.csv'\n",
    "predictions_csge_df = pd.read_csv(predictions_cs_file)\n",
    "for a in assays:\n",
    "    if hits[a] != 0:\n",
    "        cut = predictions_csge_df[predictions_csge_df['smiles'].isin(readouts_compounds[a])]\n",
    "        cut = cut.sort_values(by=a, ascending=False, na_position='last').head(hits[a])[['smiles',a]]\n",
    "        hits_top1 = set(cut['smiles'])\n",
    "        top_hit_rate_dict['CS+GE'][a] = len(hits_compounds[a].intersection(hits_top1)) / hits[a]\n",
    "        list_dataframe.append([a,'CS+GE', top_hit_rate_dict['CS+GE'][a]])\n",
    "    else:\n",
    "        top_hit_rate_dict['CS+GE'][a] = 'NA'\n",
    "        list_dataframe.append([a,'CS+GE','NA'])\n",
    "        \n",
    "        \n",
    "predictions_csgemo_file = '../predictions/' + split + '/output/predictions/late_fusion_cs_ge_mobc.csv'\n",
    "predictions_csgemo_df = pd.read_csv(predictions_cs_file)\n",
    "for a in assays:\n",
    "    if hits[a] != 0:\n",
    "        cut = predictions_csgemo_df[predictions_csgemo_df['smiles'].isin(readouts_compounds[a])]\n",
    "        cut = cut.sort_values(by=a, ascending=False, na_position='last').head(hits[a])[['smiles',a]]\n",
    "        hits_top1 = set(cut['smiles'])\n",
    "        top_hit_rate_dict['CS+GE+MO'][a] = len(hits_compounds[a].intersection(hits_top1)) / hits[a]\n",
    "        list_dataframe.append([a,'CS+GE+MO', top_hit_rate_dict['CS+GE+MO'][a]])\n",
    "    else:\n",
    "        top_hit_rate_dict['CS+GE+MO'][a] = 'NA'\n",
    "        list_dataframe.append([a,'CS+GE+MO','NA'])"
   ]
  },
  {
   "cell_type": "code",
   "execution_count": null,
   "metadata": {},
   "outputs": [],
   "source": [
    "top1_hit_rate_df = pd.DataFrame(list_dataframe, columns=['assay_id', 'descriptor','top_rank_hit_rate'])\n",
    "top1_hit_rate_df"
   ]
  },
  {
   "cell_type": "code",
   "execution_count": null,
   "metadata": {},
   "outputs": [],
   "source": [
    "final_df = pd.merge(aucs_df_readouts_hits_df.reset_index(level=0), top1_hit_rate_df)"
   ]
  },
  {
   "cell_type": "code",
   "execution_count": null,
   "metadata": {},
   "outputs": [],
   "source": [
    "final_df"
   ]
  },
  {
   "cell_type": "code",
   "execution_count": null,
   "metadata": {},
   "outputs": [],
   "source": [
    "final_df.to_csv('toprank_' + split + '_jan22_hitsnorm.csv')"
   ]
  },
  {
   "cell_type": "code",
   "execution_count": null,
   "metadata": {},
   "outputs": [],
   "source": []
  }
 ],
 "metadata": {
  "kernelspec": {
   "display_name": "Python 3 (ipykernel)",
   "language": "python",
   "name": "python3"
  },
  "language_info": {
   "codemirror_mode": {
    "name": "ipython",
    "version": 3
   },
   "file_extension": ".py",
   "mimetype": "text/x-python",
   "name": "python",
   "nbconvert_exporter": "python",
   "pygments_lexer": "ipython3",
   "version": "3.7.10"
  }
 },
 "nbformat": 4,
 "nbformat_minor": 4
}
