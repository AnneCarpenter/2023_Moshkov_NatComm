{
 "cells": [
  {
   "cell_type": "code",
   "execution_count": null,
   "metadata": {},
   "outputs": [],
   "source": [
    "import numpy as np\n",
    "import pandas as pd\n",
    "import seaborn as sb\n",
    "import matplotlib.pyplot as plt"
   ]
  },
  {
   "cell_type": "code",
   "execution_count": null,
   "metadata": {},
   "outputs": [],
   "source": [
    "split = 'chemical_may_cv3'\n",
    "train_assay_file = '/home/jupyter-nmoshkov@broadinst-04e9f/PUMA/' + split + '/assay_matrix_discrete_train_scaff.csv'\n",
    "test_assay_file = '/home/jupyter-nmoshkov@broadinst-04e9f/PUMA/' + split + '/assay_matrix_discrete_test_scaff.csv'\n",
    "aucs_file = '/home/jupyter-nmoshkov@broadinst-04e9f/PUMA/' + split + '/2021_03_evaluation_all_data_python.csv'\n",
    "\n",
    "\n",
    "train_assay_df = pd.read_csv(train_assay_file)\n",
    "test_assay_df = pd.read_csv(test_assay_file)\n",
    "aucs_df = pd.read_csv(aucs_file).set_index('assay_id')\n",
    "modalities = ['mowh_es_op', 'cp_es_op', 'ge_es_op', 'late_fusion_cs_ge', 'late_fusion_cs_ge_mowh', 'late_fusion_cs_mowh', 'late_fusion_ge_mowh']\n",
    "#modalities = ['late_fusion_cs_ge', 'late_fusion_cs_ge_mowh', 'late_fusion_cs_mowh', 'late_fusion_ge_mowh']\n",
    "aucs_df = aucs_df[aucs_df['descriptor'].isin(modalities)]\n",
    "modalities_dict = {'mowh_es_op':'MO', 'cp_es_op':'CS', 'ge_es_op':'GE', 'late_fusion_cs_ge':'CS+GE', 'late_fusion_cs_ge_mowh':'CS+GE+MO', 'late_fusion_cs_mowh':'CS+MO', 'late_fusion_ge_mowh':'GE+MO'}\n",
    "#modalities_dict = {'late_fusion_cs_ge':'CS+GE', 'late_fusion_cs_ge_mowh':'CS+GE+MO', 'late_fusion_cs_mowh':'CS+MO', 'late_fusion_ge_mowh':'GE+MO'}\n",
    "aucs_df['descriptor'].replace(modalities_dict, inplace=True)\n",
    "assays = train_assay_df.columns[1:]"
   ]
  },
  {
   "cell_type": "code",
   "execution_count": null,
   "metadata": {},
   "outputs": [],
   "source": [
    "readouts = {}\n",
    "readouts_compounds = {}\n",
    "hits = {}\n",
    "hit_rate = {}\n",
    "hits_compounds = {}\n",
    "for a in assays:\n",
    "    readouts[a] = np.count_nonzero(~np.isnan(test_assay_df[a].to_numpy()))\n",
    "    readouts_compounds[a] = set(test_assay_df[test_assay_df[a].notna()]['smiles'])\n",
    "    hits[a] = int(np.nansum(test_assay_df[a].to_numpy()))\n",
    "    hits_compounds[a] = set(test_assay_df[test_assay_df[a] > 0]['smiles'])\n",
    "    if readouts[a] != 0:\n",
    "        hit_rate[a] = hits[a] / readouts[a]\n",
    "    else:\n",
    "        hit_rate[a] = 'NA'\n",
    "\n",
    "readouts_df = pd.Series(readouts, name=\"readouts\").to_frame()\n",
    "hits_df = pd.Series(hits, name=\"hits\").to_frame()\n",
    "hit_rate_df = pd.Series(hit_rate, name=\"hit_rate\").to_frame()"
   ]
  },
  {
   "cell_type": "code",
   "execution_count": null,
   "metadata": {},
   "outputs": [],
   "source": [
    "aucs_df_readouts_hits_df  = pd.merge(aucs_df, readouts_df, left_index=True, right_index=True)\n",
    "aucs_df_readouts_hits_df  = pd.merge(aucs_df_readouts_hits_df, hits_df, left_index=True, right_index=True)\n",
    "aucs_df_readouts_hits_df  = pd.merge(aucs_df_readouts_hits_df, hit_rate_df, left_index=True, right_index=True)\n",
    "aucs_df_readouts_hits_df.index.name = 'assay_id'\n",
    "aucs_df_readouts_hits_df"
   ]
  },
  {
   "cell_type": "code",
   "execution_count": null,
   "metadata": {},
   "outputs": [],
   "source": [
    "hits_compounds['100_277']"
   ]
  },
  {
   "cell_type": "code",
   "execution_count": null,
   "metadata": {},
   "outputs": [],
   "source": [
    "top_hit_rate_dict = {'CS':{}, 'GE': {}, 'MO':{}, 'CS+GE':{}, 'GE+MO':{}, 'CS+MO':{}, 'CS+GE+MO': {} }\n",
    "list_dataframe = []\n",
    "# 3200 compounds / rank / rank only readouts / remove others \n",
    "# hit rate normalized / total number of hits (top number of hits), basically it will top (number of hits) instead of top 1%\n",
    "predictions_cs_file = '/home/jupyter-nmoshkov@broadinst-04e9f/PUMA/' + split + '/predictions/predictions_cp_es_op.csv'\n",
    "predictions_cs_df = pd.read_csv(predictions_cs_file)\n",
    "for a in assays:\n",
    "    if hits[a] != 0:\n",
    "        cut = predictions_cs_df[predictions_cs_df['smiles'].isin(readouts_compounds[a])]\n",
    "        cut = cut.sort_values(by=a, ascending=False, na_position='last').head(hits[a])[['smiles',a]]\n",
    "        hits_top1 = set(cut['smiles'])\n",
    "        #top_hit_rate_dict['CS'][a] = len(hits_compounds[a].intersection(hits_top1)) / int(len(predictions_cs_df) / 100)\n",
    "        top_hit_rate_dict['CS'][a] = len(hits_compounds[a].intersection(hits_top1)) / hits[a]\n",
    "        list_dataframe.append([a,'CS', top_hit_rate_dict['CS'][a]])\n",
    "    else:\n",
    "        top_hit_rate_dict['CS'][a] = 'NA'\n",
    "        list_dataframe.append([a,'CS','NA'])\n",
    "\n",
    "        \n",
    "predictions_mo_file = '/home/jupyter-nmoshkov@broadinst-04e9f/PUMA/' + split + '/predictions/predictions_mowh_es_op.csv'\n",
    "predictions_mo_df = pd.read_csv(predictions_cs_file)\n",
    "for a in assays:\n",
    "    if hits[a] != 0:\n",
    "        cut = predictions_mo_df[predictions_mo_df['smiles'].isin(readouts_compounds[a])]\n",
    "        cut = cut.sort_values(by=a, ascending=False, na_position='last').head(hits[a])[['smiles',a]]\n",
    "       # cut = predictions_mo_df.sort_values(by=a, ascending=False, na_position='last').head(int(len(predictions_mo_df) / 100))[['smiles',a]]\n",
    "        hits_top1 = set(cut['smiles'])\n",
    "        #top_hit_rate_dict['MO'][a] = len(hits_compounds[a].intersection(hits_top1)) / int(len(predictions_mo_df) / 100)\n",
    "        top_hit_rate_dict['MO'][a] = len(hits_compounds[a].intersection(hits_top1)) / hits[a]\n",
    "        list_dataframe.append([a,'MO', top_hit_rate_dict['MO'][a]])\n",
    "    else:\n",
    "        top_hit_rate_dict['MO'][a] = 'NA'\n",
    "        list_dataframe.append([a,'MO','NA'])\n",
    "        \n",
    "predictions_ge_file = '/home/jupyter-nmoshkov@broadinst-04e9f/PUMA/' + split + '/predictions/predictions_ge_es_op.csv'\n",
    "predictions_ge_df = pd.read_csv(predictions_cs_file)\n",
    "for a in assays:\n",
    "    if hits[a] != 0:\n",
    "        #cut = predictions_ge_df.sort_values(by=a, ascending=False, na_position='last').head(int(len(predictions_ge_df) / 100))[['smiles',a]]\n",
    "        cut = predictions_ge_df[predictions_ge_df['smiles'].isin(readouts_compounds[a])]\n",
    "        cut = cut.sort_values(by=a, ascending=False, na_position='last').head(hits[a])[['smiles',a]]\n",
    "        hits_top1 = set(cut['smiles'])\n",
    "        #top_hit_rate_dict['GE'][a] = len(hits_compounds[a].intersection(hits_top1)) / int(len(predictions_ge_df) / 100)\n",
    "        top_hit_rate_dict['GE'][a] = len(hits_compounds[a].intersection(hits_top1)) / hits[a]\n",
    "        list_dataframe.append([a,'GE', top_hit_rate_dict['GE'][a]])\n",
    "    else:\n",
    "        top_hit_rate_dict['GE'][a] = 'NA'\n",
    "        list_dataframe.append([a,'GE','NA'])\n",
    "        \n",
    "        \n",
    "predictions_gemo_file = '/home/jupyter-nmoshkov@broadinst-04e9f/PUMA/' + split + '/predictions/late_fusion_ge_mowh.csv'\n",
    "predictions_gemo_df = pd.read_csv(predictions_cs_file)\n",
    "for a in assays:\n",
    "    if hits[a] != 0:\n",
    "        #cut = predictions_gemo_df.sort_values(by=a, ascending=False, na_position='last').head(int(len(predictions_gemo_df) / 100))[['smiles',a]]\n",
    "        cut = predictions_gemo_df[predictions_gemo_df['smiles'].isin(readouts_compounds[a])]\n",
    "        cut = cut.sort_values(by=a, ascending=False, na_position='last').head(hits[a])[['smiles',a]]\n",
    "        hits_top1 = set(cut['smiles'])\n",
    "        #top_hit_rate_dict['GE+MO'][a] = len(hits_compounds[a].intersection(hits_top1)) / int(len(predictions_gemo_df) / 100)\n",
    "        top_hit_rate_dict['GE+MO'][a] = len(hits_compounds[a].intersection(hits_top1)) / hits[a]\n",
    "        list_dataframe.append([a,'GE+MO', top_hit_rate_dict['GE+MO'][a]])\n",
    "    else:\n",
    "        top_hit_rate_dict['GE+MO'][a] = 'NA'\n",
    "        list_dataframe.append([a,'GE+MO','NA'])\n",
    "        \n",
    "        \n",
    "predictions_csmo_file = '/home/jupyter-nmoshkov@broadinst-04e9f/PUMA/' + split + '/predictions/late_fusion_cs_mowh.csv'\n",
    "predictions_csmo_df = pd.read_csv(predictions_cs_file)\n",
    "for a in assays:\n",
    "    if hits[a] != 0:\n",
    "        #cut = predictions_csmo_df.sort_values(by=a, ascending=False, na_position='last').head(int(len(predictions_csmo_df) / 100))[['smiles',a]]\n",
    "        cut = predictions_csmo_df[predictions_csmo_df['smiles'].isin(readouts_compounds[a])]\n",
    "        cut = cut.sort_values(by=a, ascending=False, na_position='last').head(hits[a])[['smiles',a]]\n",
    "        hits_top1 = set(cut['smiles'])\n",
    "        #top_hit_rate_dict['CS+MO'][a] = len(hits_compounds[a].intersection(hits_top1)) / int(len(predictions_csmo_df) / 100)\n",
    "        top_hit_rate_dict['CS+MO'][a] = len(hits_compounds[a].intersection(hits_top1)) / hits[a]\n",
    "        list_dataframe.append([a,'CS+MO', top_hit_rate_dict['CS+MO'][a]])\n",
    "    else:\n",
    "        top_hit_rate_dict['CS+MO'][a] = 'NA'\n",
    "        list_dataframe.append([a,'CS+MO','NA'])\n",
    "        \n",
    "\n",
    "predictions_csge_file = '/home/jupyter-nmoshkov@broadinst-04e9f/PUMA/' + split + '/predictions/late_fusion_cs_ge.csv'\n",
    "predictions_csge_df = pd.read_csv(predictions_cs_file)\n",
    "for a in assays:\n",
    "    if hits[a] != 0:\n",
    "        #cut = predictions_csge_df.sort_values(by=a, ascending=False, na_position='last').head(int(len(predictions_csge_df) / 100))[['smiles',a]]\n",
    "        cut = predictions_csge_df[predictions_csge_df['smiles'].isin(readouts_compounds[a])]\n",
    "        cut = cut.sort_values(by=a, ascending=False, na_position='last').head(hits[a])[['smiles',a]]\n",
    "        hits_top1 = set(cut['smiles'])\n",
    "        #top_hit_rate_dict['CS+GE'][a] = len(hits_compounds[a].intersection(hits_top1)) / int(len(predictions_csge_df) / 100)\n",
    "        top_hit_rate_dict['CS+GE'][a] = len(hits_compounds[a].intersection(hits_top1)) / hits[a]\n",
    "        list_dataframe.append([a,'CS+GE', top_hit_rate_dict['CS+GE'][a]])\n",
    "    else:\n",
    "        top_hit_rate_dict['CS+GE'][a] = 'NA'\n",
    "        list_dataframe.append([a,'CS+GE','NA'])\n",
    "        \n",
    "        \n",
    "predictions_csgemo_file = '/home/jupyter-nmoshkov@broadinst-04e9f/PUMA/' + split + '/predictions/late_fusion_cs_ge_mowh.csv'\n",
    "predictions_csgemo_df = pd.read_csv(predictions_cs_file)\n",
    "for a in assays:\n",
    "    if hits[a] != 0:\n",
    "        #cut = predictions_csgemo_df.sort_values(by=a, ascending=False, na_position='last').head(int(len(predictions_csgemo_df) / 100))[['smiles',a]]\n",
    "        cut = predictions_csgemo_df[predictions_csgemo_df['smiles'].isin(readouts_compounds[a])]\n",
    "        cut = cut.sort_values(by=a, ascending=False, na_position='last').head(hits[a])[['smiles',a]]\n",
    "        hits_top1 = set(cut['smiles'])\n",
    "        #top_hit_rate_dict['CS+GE+MO'][a] = len(hits_compounds[a].intersection(hits_top1)) / int(len(predictions_csgemo_df) / 100)\n",
    "        top_hit_rate_dict['CS+GE+MO'][a] = len(hits_compounds[a].intersection(hits_top1)) / hits[a]\n",
    "        list_dataframe.append([a,'CS+GE+MO', top_hit_rate_dict['CS+GE+MO'][a]])\n",
    "    else:\n",
    "        top_hit_rate_dict['CS+GE+MO'][a] = 'NA'\n",
    "        list_dataframe.append([a,'CS+GE+MO','NA'])"
   ]
  },
  {
   "cell_type": "code",
   "execution_count": null,
   "metadata": {},
   "outputs": [],
   "source": [
    "#aucs_df_readouts_hits_df.to_csv('consolidated_data_latefusion_' + split + '.csv')"
   ]
  },
  {
   "cell_type": "code",
   "execution_count": null,
   "metadata": {},
   "outputs": [],
   "source": [
    "top1_hit_rate_df = pd.DataFrame(list_dataframe, columns=['assay_id', 'descriptor','top_rank_hit_rate'])\n",
    "top1_hit_rate_df"
   ]
  },
  {
   "cell_type": "code",
   "execution_count": null,
   "metadata": {},
   "outputs": [],
   "source": [
    "final_df = pd.merge(aucs_df_readouts_hits_df.reset_index(level=0), top1_hit_rate_df)"
   ]
  },
  {
   "cell_type": "code",
   "execution_count": null,
   "metadata": {},
   "outputs": [],
   "source": [
    "final_df"
   ]
  },
  {
   "cell_type": "code",
   "execution_count": null,
   "metadata": {},
   "outputs": [],
   "source": [
    "final_df.to_csv('toprank_' + split + '_hitsnorm.csv')"
   ]
  },
  {
   "cell_type": "code",
   "execution_count": null,
   "metadata": {},
   "outputs": [],
   "source": []
  }
 ],
 "metadata": {
  "kernelspec": {
   "display_name": "Python 3",
   "language": "python",
   "name": "python3"
  },
  "language_info": {
   "codemirror_mode": {
    "name": "ipython",
    "version": 3
   },
   "file_extension": ".py",
   "mimetype": "text/x-python",
   "name": "python",
   "nbconvert_exporter": "python",
   "pygments_lexer": "ipython3",
   "version": "3.7.3"
  }
 },
 "nbformat": 4,
 "nbformat_minor": 4
}
